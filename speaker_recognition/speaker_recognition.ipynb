{
 "cells": [
  {
   "cell_type": "markdown",
   "metadata": {},
   "source": [
    "## Speaker Recognition\n",
    "### Authors: Samuel Mayor, Alexandra Korukova"
   ]
  },
  {
   "cell_type": "markdown",
   "metadata": {},
   "source": [
    "### Description:"
   ]
  },
  {
   "cell_type": "markdown",
   "metadata": {},
   "source": [
    "This notebook is divided into 6 main parts. In the first __Data extraction__ part we extract the 13 features from the audios database contained in `./vowels` directory. In next four parts the models that determine \n",
    "* wether the audio corresponds to the male or female voice ( __Man vs Woman__ )\n",
    "* wether the audio corresponds to the female or kid voice ( __Woman vs Kid__ )\n",
    "* wether the audio corresponds to the female, kid or male voice ( __Man vs Woman vs Kid__ )\n",
    "* wether the audio corresponds to the natural or synthetized voice ( __Natural vs Synthetized__ )\n",
    "\n",
    "are built.  \n",
    "The last __Custom experiment__ part contains the experiment made on the custom collection of the audios. These audios are put in the `./vowels/custom` directory.  \n",
    "__NOTE:__ the audios from the initial database (vowels) are not submitted and must be put in the `./vowels` directory.  \n",
    "\n",
    "Some of the functions are not used to build the final models.  \n",
    "The entire commented cells contain the expriments. The results are stored in `./experiments/` directory. This directory contains 4 subdirectories:\n",
    "* `/MW` for the __Man vs Woman__ experiments\n",
    "* `/WK` for the __Woman vs Kid__ experiments\n",
    "* `/MWK` for the __Man vs Woman vs Kid__ experiments\n",
    "* `/NS` for the __Natural vs Synthetized__ experiments\n",
    "\n",
    "The results of all experiments are stored as numpy arrays in the files with `.npy` extension and follow the following file name convention: `{i}_M{X}L{Y}N{Z}_test.npy` or `{i}_M{X}L{Y}N{Z}_train.npy`. `i` is the index of the test. `X` and `Y` are the Momentum and Learning Rate values respectively. The filenames ending with `_train` correspond to the training MSE and those that end with `_test` correspond to the testing MSE of the model. The numpy arrays stored in these files are of the shape *(len(N_NEURONS), EPOCHS, N_TESTS)*, where *N_NEURONS* is the list containing all the tested numer of neurons in the hidden layer, *EPOCHS* is the numer of epochs and *N_TESTS* is the number of weights initializations. "
   ]
  },
  {
   "cell_type": "markdown",
   "metadata": {},
   "source": [
    "## Data extraction"
   ]
  },
  {
   "cell_type": "markdown",
   "metadata": {},
   "source": [
    "First of all, we have to collect all the .wav files into a python data structure. We also have to label the data for the further training and testing. "
   ]
  },
  {
   "cell_type": "code",
   "execution_count": 1,
   "metadata": {},
   "outputs": [],
   "source": [
    "import os\n",
    "import numpy as np\n",
    "import scipy.io.wavfile as wav\n",
    "from python_speech_features import mfcc\n",
    "from matplotlib import pyplot as pl\n",
    "import time"
   ]
  },
  {
   "cell_type": "code",
   "execution_count": 2,
   "metadata": {},
   "outputs": [],
   "source": [
    "# Constants\n",
    "PATH = './vowels' # contains the audios\n",
    "EXTENSION = '.wav'\n",
    "N_FEATURES = 13"
   ]
  },
  {
   "cell_type": "code",
   "execution_count": 3,
   "metadata": {},
   "outputs": [
    {
     "name": "stdout",
     "output_type": "stream",
     "text": [
      "360\n",
      "3\n",
      "2\n",
      "365\n"
     ]
    }
   ],
   "source": [
    "vowels = os.listdir(PATH)\n",
    "# Every row of the dataset represents the .wav file\n",
    "# The first two columns are the sample rate and the data read from the .wav file\n",
    "# The 3d column is the label of the file\n",
    "# There exists 6 labels:\n",
    "#     0: 'Natural Adult Male', \n",
    "#     1: 'Natural Adult Female', \n",
    "#     2: 'Natural Kid'\n",
    "#     3: 'Synthesized Adult Male'\n",
    "#     4: 'Synthesized Adult Female'\n",
    "#     5: 'Synthesized Kid'\n",
    "dataset = []\n",
    "features = []\n",
    "for v in vowels:\n",
    "    filename, file_extension = os.path.splitext(v)\n",
    "    if(file_extension == EXTENSION):\n",
    "        if(v.startswith('nam')):\n",
    "            class_num = 0\n",
    "#             print(v, 'Natural Male')\n",
    "        elif(v.startswith('naf')):\n",
    "            class_num = 1\n",
    "#             print(v, 'Natural Female')\n",
    "        elif(v.startswith('nk')):\n",
    "            class_num = 2\n",
    "#             print(v, 'Natural Kid')\n",
    "        elif(v.startswith('sam')):\n",
    "            class_num = 3\n",
    "#             print(v, 'Synthetized Male')\n",
    "        elif(v.startswith('saf')):\n",
    "            class_num = 4\n",
    "#             print(v, 'Synthetized Female')\n",
    "        elif(v.startswith('sk')):\n",
    "            class_num = 5\n",
    "#             print(v, 'Synthetized Kid')\n",
    "        sample_rate, X = wav.read(os.path.join(PATH, v))\n",
    "        dataset.append([sample_rate, X, class_num])\n",
    "        ceps = mfcc(X, samplerate=sample_rate, nfft=1024)\n",
    "        features.append([ceps, class_num])\n",
    "        \n",
    "print(len(dataset))\n",
    "print(len(dataset[0]))\n",
    "print(dataset[0][2])\n",
    "print(len(vowels))"
   ]
  },
  {
   "cell_type": "markdown",
   "metadata": {},
   "source": [
    "## Man vs Woman"
   ]
  },
  {
   "cell_type": "markdown",
   "metadata": {},
   "source": [
    "Now we're only interested in audios containing men and women natural voices. First of all, let's extract them from the dataset."
   ]
  },
  {
   "cell_type": "code",
   "execution_count": 4,
   "metadata": {},
   "outputs": [
    {
     "name": "stdout",
     "output_type": "stream",
     "text": [
      "(36,) (36,)\n",
      "(17, 13)\n",
      "(23, 13)\n",
      "(24, 13)\n"
     ]
    }
   ],
   "source": [
    "m_features = [] # array containing all features of the men's (natural) voices\n",
    "f_features = [] # array containing all features of the women's (natural) voices\n",
    "for f in features:\n",
    "    if(f[1] == 0): \n",
    "        m_features.append(f[0])\n",
    "    elif(f[1] == 1):\n",
    "        f_features.append(f[0]) \n",
    "m_features = np.array(m_features)\n",
    "f_features = np.array(f_features)\n",
    "print(m_features.shape, f_features.shape)\n",
    "print(m_features[0].shape)\n",
    "print(m_features[1].shape)\n",
    "print(f_features[0].shape)"
   ]
  },
  {
   "cell_type": "markdown",
   "metadata": {},
   "source": [
    "### Feature extraction"
   ]
  },
  {
   "cell_type": "markdown",
   "metadata": {},
   "source": [
    "As we can see, we've got 36 collections of features for men and women voices. Every audio is split into fragments. For each fragment, the values representing 13 features are calculated.  "
   ]
  },
  {
   "cell_type": "code",
   "execution_count": 5,
   "metadata": {},
   "outputs": [],
   "source": [
    "def align_by_feature(features):\n",
    "    '''\n",
    "    This funciton aligns all the values of the feature of all fragments\n",
    "    '''\n",
    "    aligned_features = []\n",
    "    for i in np.arange(13):\n",
    "        aligned_features.append([])\n",
    "    for fragments in features: # loop over every audio \n",
    "        for features in fragments:\n",
    "            for i,feature in enumerate(features):\n",
    "                aligned_features[i].append(feature)\n",
    "    return aligned_features"
   ]
  },
  {
   "cell_type": "code",
   "execution_count": 6,
   "metadata": {},
   "outputs": [
    {
     "name": "stdout",
     "output_type": "stream",
     "text": [
      "13\n",
      "753\n",
      "13\n",
      "919\n",
      "753\n",
      "919\n"
     ]
    }
   ],
   "source": [
    "men_aligned = align_by_feature(m_features)\n",
    "women_aligned = align_by_feature(f_features)\n",
    "print(len(men_aligned)) \n",
    "print(len(men_aligned[0]))\n",
    "print(len(women_aligned))\n",
    "print(len(women_aligned[0]))\n",
    "print(len(men_aligned[1]))\n",
    "print(len(women_aligned[1]))"
   ]
  },
  {
   "cell_type": "code",
   "execution_count": 7,
   "metadata": {},
   "outputs": [
    {
     "name": "stdout",
     "output_type": "stream",
     "text": [
      "(36, 13)\n",
      "(36, 13)\n"
     ]
    }
   ],
   "source": [
    "# NOT USED FOR THE FINAL MODELS\n",
    "def avg_per_audio(features):\n",
    "    '''\n",
    "    This function calculates the average feature value for every audio.\n",
    "    \n",
    "    input: \n",
    "    features: contains N (number of audios) 2d fragments\n",
    "    fragments: list of arrays, every array contains 13 features\n",
    "    \n",
    "    output:\n",
    "    Nx13 numpy array\n",
    "    lines: audio index\n",
    "    column: feature index\n",
    "    '''\n",
    "    avg_features = np.zeros((features.shape[0], N_FEATURES))\n",
    "    for i,audio in enumerate(features):\n",
    "        sum_per_feature = np.zeros(N_FEATURES)\n",
    "        for fragment in audio:\n",
    "            for j, feature in enumerate(fragment):\n",
    "                sum_per_feature[j] += feature\n",
    "            avg_features[i, :] = sum_per_feature/float(len(audio))\n",
    "    return avg_features\n",
    "men_avg = avg_per_audio(m_features)\n",
    "women_avg = avg_per_audio(f_features)\n",
    "print(men_avg.shape)\n",
    "print(women_avg.shape)"
   ]
  },
  {
   "cell_type": "markdown",
   "metadata": {},
   "source": [
    "### Plotting all of the features of all fragments (aligned)"
   ]
  },
  {
   "cell_type": "code",
   "execution_count": 8,
   "metadata": {},
   "outputs": [
    {
     "data": {
      "image/png": "[encoded data removed]",
      "text/plain": [
       "<Figure size 720x360 with 1 Axes>"
      ]
     },
     "metadata": {
      "needs_background": "light"
     },
     "output_type": "display_data"
    },
    {
     "data": {
      "image/png": "[encoded data removed]",
      "text/plain": [
       "<Figure size 720x360 with 1 Axes>"
      ]
     },
     "metadata": {
      "needs_background": "light"
     },
     "output_type": "display_data"
    },
    {
     "data": {
      "image/png": "[encoded data removed]",
      "text/plain": [
       "<Figure size 720x360 with 1 Axes>"
      ]
     },
     "metadata": {
      "needs_background": "light"
     },
     "output_type": "display_data"
    },
    {
     "data": {
      "image/png": "[encoded data removed]",
      "text/plain": [
       "<Figure size 720x360 with 1 Axes>"
      ]
     },
     "metadata": {
      "needs_background": "light"
     },
     "output_type": "display_data"
    },
    {
     "data": {
      "image/png": "[encoded data removed]",
      "text/plain": [
       "<Figure size 720x360 with 1 Axes>"
      ]
     },
     "metadata": {
      "needs_background": "light"
     },
     "output_type": "display_data"
    },
    {
     "data": {
      "image/png": "[encoded data removed]",
      "text/plain": [
       "<Figure size 720x360 with 1 Axes>"
      ]
     },
     "metadata": {
      "needs_background": "light"
     },
     "output_type": "display_data"
    },
    {
     "data": {
      "image/png": "[encoded data removed]",
      "text/plain": [
       "<Figure size 720x360 with 1 Axes>"
      ]
     },
     "metadata": {
      "needs_background": "light"
     },
     "output_type": "display_data"
    },
    {
     "data": {
      "image/png": "[encoded data removed]",
      "text/plain": [
       "<Figure size 720x360 with 1 Axes>"
      ]
     },
     "metadata": {
      "needs_background": "light"
     },
     "output_type": "display_data"
    },
    {
     "data": {
      "image/png": "[encoded data removed]",
      "text/plain": [
       "<Figure size 720x360 with 1 Axes>"
      ]
     },
     "metadata": {
      "needs_background": "light"
     },
     "output_type": "display_data"
    },
    {
     "data": {
      "image/png": "[encoded data removed]",
      "text/plain": [
       "<Figure size 720x360 with 1 Axes>"
      ]
     },
     "metadata": {
      "needs_background": "light"
     },
     "output_type": "display_data"
    },
    {
     "data": {
      "image/png": "[encoded data removed]",
      "text/plain": [
       "<Figure size 720x360 with 1 Axes>"
      ]
     },
     "metadata": {
      "needs_background": "light"
     },
     "output_type": "display_data"
    },
    {
     "data": {
      "image/png": "[encoded data removed]",
      "text/plain": [
       "<Figure size 720x360 with 1 Axes>"
      ]
     },
     "metadata": {
      "needs_background": "light"
     },
     "output_type": "display_data"
    },
    {
     "data": {
      "image/png": "[encoded data removed]",
      "text/plain": [
       "<Figure size 720x360 with 1 Axes>"
      ]
     },
     "metadata": {
      "needs_background": "light"
     },
     "output_type": "display_data"
    }
   ],
   "source": [
    "def boxplot_feature(m_features, f_features, k):\n",
    "    pl.figure(figsize=(10,5))\n",
    "    feature = np.array([m_features[k], f_features[k]])\n",
    "    pl.boxplot(feature)\n",
    "    pl.title('Feature '+ str(k))\n",
    "    pl.xticks([1, 2], ['Man', 'Woman'])\n",
    "    pl.grid()\n",
    "\n",
    "for f in np.arange(13):\n",
    "    boxplot_feature(men_aligned, women_aligned, f)\n"
   ]
  },
  {
   "cell_type": "markdown",
   "metadata": {},
   "source": [
    "### Plotting the features, average per audio"
   ]
  },
  {
   "cell_type": "code",
   "execution_count": 9,
   "metadata": {},
   "outputs": [
    {
     "data": {
      "image/png": "[encoded data removed]",
      "text/plain": [
       "<Figure size 720x360 with 1 Axes>"
      ]
     },
     "metadata": {
      "needs_background": "light"
     },
     "output_type": "display_data"
    },
    {
     "data": {
      "image/png": "[encoded data removed]",
      "text/plain": [
       "<Figure size 720x360 with 1 Axes>"
      ]
     },
     "metadata": {
      "needs_background": "light"
     },
     "output_type": "display_data"
    },
    {
     "data": {
      "image/png": "[encoded data removed]",
      "text/plain": [
       "<Figure size 720x360 with 1 Axes>"
      ]
     },
     "metadata": {
      "needs_background": "light"
     },
     "output_type": "display_data"
    },
    {
     "data": {
      "image/png": "[encoded data removed]",
      "text/plain": [
       "<Figure size 720x360 with 1 Axes>"
      ]
     },
     "metadata": {
      "needs_background": "light"
     },
     "output_type": "display_data"
    },
    {
     "data": {
      "image/png": "[encoded data removed]",
      "text/plain": [
       "<Figure size 720x360 with 1 Axes>"
      ]
     },
     "metadata": {
      "needs_background": "light"
     },
     "output_type": "display_data"
    },
    {
     "data": {
      "image/png": "[encoded data removed]",
      "text/plain": [
       "<Figure size 720x360 with 1 Axes>"
      ]
     },
     "metadata": {
      "needs_background": "light"
     },
     "output_type": "display_data"
    },
    {
     "data": {
      "image/png": "[encoded data removed]",
      "text/plain": [
       "<Figure size 720x360 with 1 Axes>"
      ]
     },
     "metadata": {
      "needs_background": "light"
     },
     "output_type": "display_data"
    },
    {
     "data": {
      "image/png": "[encoded data removed]",
      "text/plain": [
       "<Figure size 720x360 with 1 Axes>"
      ]
     },
     "metadata": {
      "needs_background": "light"
     },
     "output_type": "display_data"
    },
    {
     "data": {
      "image/png": "[encoded data removed]",
      "text/plain": [
       "<Figure size 720x360 with 1 Axes>"
      ]
     },
     "metadata": {
      "needs_background": "light"
     },
     "output_type": "display_data"
    },
    {
     "data": {
      "image/png": "[encoded data removed]",
      "text/plain": [
       "<Figure size 720x360 with 1 Axes>"
      ]
     },
     "metadata": {
      "needs_background": "light"
     },
     "output_type": "display_data"
    },
    {
     "data": {
      "image/png": "[encoded data removed]",
      "text/plain": [
       "<Figure size 720x360 with 1 Axes>"
      ]
     },
     "metadata": {
      "needs_background": "light"
     },
     "output_type": "display_data"
    },
    {
     "data": {
      "image/png": "[encoded data removed]",
      "text/plain": [
       "<Figure size 720x360 with 1 Axes>"
      ]
     },
     "metadata": {
      "needs_background": "light"
     },
     "output_type": "display_data"
    },
    {
     "data": {
      "image/png": "[encoded data removed]",
      "text/plain": [
       "<Figure size 720x360 with 1 Axes>"
      ]
     },
     "metadata": {
      "needs_background": "light"
     },
     "output_type": "display_data"
    }
   ],
   "source": [
    "for f in np.arange(N_FEATURES):\n",
    "    pl.figure(figsize=(10,5))\n",
    "    pl.boxplot([men_avg.T[f], women_avg.T[f]])\n",
    "    pl.title('Feature '+ str(f))\n",
    "    pl.xticks([1, 2], ['Man', 'Woman'])\n",
    "    pl.grid()"
   ]
  },
  {
   "cell_type": "markdown",
   "metadata": {},
   "source": [
    "Features 2, 3, 4, 8, 9 look the most distinguishable between men and women.  \n",
    "But using all the features lead to the better model performance. Thus, we are using all the features as the input layer of the NN."
   ]
  },
  {
   "cell_type": "code",
   "execution_count": 10,
   "metadata": {},
   "outputs": [],
   "source": [
    "# note: features are indexed from 0 to 12\n",
    "selected_features = [0, 1, 2, 3, 4, 5, 6, 7, 8, 9, 10, 11, 12]"
   ]
  },
  {
   "cell_type": "code",
   "execution_count": 11,
   "metadata": {},
   "outputs": [],
   "source": [
    "def create_dataset(m_features, f_features, feature_indexes):\n",
    "    extracted = np.zeros((len(m_features[0]) + len(f_features[0]), len(feature_indexes)+1))\n",
    "    for i, fi in enumerate(feature_indexes):\n",
    "        extracted[:, i] = np.concatenate((m_features[fi], f_features[fi]))\n",
    "    extracted[:, extracted.shape[1]-1] = np.concatenate((np.ones(len(m_features[0])), -1*np.ones(len(f_features[0]))))\n",
    "    return extracted"
   ]
  },
  {
   "cell_type": "code",
   "execution_count": 12,
   "metadata": {},
   "outputs": [],
   "source": [
    "import mlp_backprop_momentum as mlp\n",
    "import k_fold_cross_validation as cv"
   ]
  },
  {
   "cell_type": "code",
   "execution_count": 13,
   "metadata": {},
   "outputs": [],
   "source": [
    "N_INITS = 10\n",
    "EPOCHS = 200\n",
    "N_NEURONS = [2, 4, 5, 8, 16]\n",
    "LEARNING_RATE = 0.001\n",
    "MOMENTUM = 0.5"
   ]
  },
  {
   "cell_type": "markdown",
   "metadata": {},
   "source": [
    "Tests take too much time, because we consider every fragment.  \n",
    "To reduce the calculation time, we can reduce the number of inputs (features considered) or reduce the size of the dataset. \n",
    "Since we cannot be sure about which features are the best for our classification problem, it will probably be more convinient to reduce the size of the dataset. We first thought of using the average value of the feature per audio. But this method reduces the dataset to only 36 values per feature per class. In addition, using average value can maybe lead to underfitting.  \n",
    "Instead of considering every fragment, we will normalize the data for every feature: we will create a normally distributed dataset of size *n* for every feature.  \n",
    "NOTE: After executing several test on different models, this simplification was discarded."
   ]
  },
  {
   "cell_type": "code",
   "execution_count": 14,
   "metadata": {},
   "outputs": [
    {
     "data": {
      "image/png": "[encoded data removed]",
      "text/plain": [
       "<Figure size 720x360 with 1 Axes>"
      ]
     },
     "metadata": {
      "needs_background": "light"
     },
     "output_type": "display_data"
    }
   ],
   "source": [
    "# NOT USED FOR THE FINAL MODELS\n",
    "import statistics\n",
    "\n",
    "def normalize_data(feature_set, n):\n",
    "    '''\n",
    "    feature_set has to be an array of length N_FEATURES\n",
    "    every kth element of this array is the list containing the valeus of the kth feature of all fragments (aligned)\n",
    "    n : number of points\n",
    "    '''\n",
    "    result = np.zeros((N_FEATURES, n))\n",
    "    for f, values in enumerate(feature_set):\n",
    "        sd = statistics.stdev(values)\n",
    "        m = statistics.mean(values)\n",
    "        normalized = np.random.normal(m, sd, n)\n",
    "        result[f, :] = normalized\n",
    "    return result\n",
    "\n",
    "men_normalized = normalize_data(men_aligned, 200)\n",
    "women_normalized = normalize_data(women_aligned, 200)\n",
    "\n",
    "# plot some feature \n",
    "pl.figure(figsize=(10,5))\n",
    "pl.boxplot([men_normalized[8], women_normalized[8]])\n",
    "pl.title('Feature '+ str(8))\n",
    "pl.xticks([1, 2], ['Man', 'Woman'])\n",
    "pl.grid()"
   ]
  },
  {
   "cell_type": "code",
   "execution_count": 15,
   "metadata": {},
   "outputs": [],
   "source": [
    "N_INITS = 10\n",
    "N_TESTS = 10\n",
    "K = 5\n",
    "EPOCHS = 100\n",
    "N_NEURONS = [2, 4, 8, 16, 20, 25, 30, 40]\n",
    "LEARNING_RATE = 0.001\n",
    "MOMENTUM = 0.5"
   ]
  },
  {
   "cell_type": "code",
   "execution_count": 16,
   "metadata": {},
   "outputs": [
    {
     "name": "stdout",
     "output_type": "stream",
     "text": [
      "(1672, 14)\n"
     ]
    }
   ],
   "source": [
    "mf_dataset = create_dataset(men_aligned, women_aligned, selected_features)\n",
    "input_size = len(selected_features)\n",
    "print(mf_dataset.shape)"
   ]
  },
  {
   "cell_type": "code",
   "execution_count": 17,
   "metadata": {},
   "outputs": [],
   "source": [
    "# MOMENTUM_LIST = np.arange(0.1, 0.95, 0.2)\n",
    "# LEARNING_RATE_LIST =np.arange(0.001, 1, 0.1)\n",
    "MOMENTUM_LIST = np.array([0.1, 0.3, 0.7, 0.9])\n",
    "LEARNING_RATE_LIST = np.array([0.001, 0.01, 0.1, 0.2, 0.3])\n",
    "PATH_EXPERIMENTS = './experiments/'\n",
    "PATH_MW = PATH_EXPERIMENTS + 'MW/'"
   ]
  },
  {
   "cell_type": "code",
   "execution_count": 18,
   "metadata": {
    "scrolled": true
   },
   "outputs": [],
   "source": [
    "# NOTE: the result of these experiments is listed in ./experiments/MW\n",
    "# Every file contains a 3-dimensional numpy array of shape ((len(N_NEURONS), EPOCHS, N_TESTS))    \n",
    "# File name convention: \n",
    "# Every file is named as follows: {X}_M{Y}L{Z}N{K}_test.npy or {X}_M{Y}L{Z}N{K}_train.npy\n",
    "#     - X is the index of the experiment, test and train files with the same index correspond to the same experiment\n",
    "#     - Y is the Momentum used for the experiment\n",
    "#     - Z is the Learning rate used for the experiment\n",
    "# Numer of EPOCHS = 100\n",
    "# Number of tests N_TESTS = 10\n",
    "\n",
    "# cnt = 0\n",
    "# for m in MOMENTUM_LIST:\n",
    "#     print('MOMENTUM:', m)\n",
    "#     for l in LEARNING_RATE_LIST:\n",
    "#         print('MOMENTUM:', m, \"LEARNING RATE:\", l)\n",
    "        \n",
    "#         MSE_train = np.zeros((len(N_NEURONS), EPOCHS, N_TESTS))\n",
    "#         MSE_test = np.zeros((len(N_NEURONS), EPOCHS, N_TESTS))\n",
    "\n",
    "#         for i_h, h in enumerate(N_NEURONS):                                     # looping the number of hidden neurons\n",
    "#             print('Testing', h, 'neurons...')\n",
    "#             nn = mlp.MLP([input_size,h,1], 'tanh')\n",
    "#             for i in np.arange(N_TESTS):                                           # looping the tests\n",
    "#                 tt = time.time()\n",
    "#                 nn.init_weights()                                                  # the network has to be reinitialized before each test\n",
    "#                 temp1, temp2 = cv.k_fold_cross_validation_per_epoch(nn,            # notice that we do not use cv.k_fold_cross_validation\n",
    "#                                                             mf_dataset,    # but cv.k_fold_cross_validation_per_epoch which\n",
    "#                                                             k=K,           # returns a value of error per each epoch\n",
    "#                                                             learning_rate=l,\n",
    "#                                                             momentum=m,\n",
    "#                                                             epochs=EPOCHS)\n",
    "#                 print (time.time() - tt)\n",
    "#         # temp1 and temp2 are the training and test error. One value per epoch\n",
    "#                 MSE_train[i_h, :, i] = temp1\n",
    "#                 MSE_test[i_h, :, i] = temp2\n",
    "#         print('Tests done')\n",
    "#         np.save(PATH_MW + str(cnt) + '_M'+str(m)+'L'+str(l)+'N'+str(h)+'_train', MSE_train)\n",
    "#         np.save(PATH_MW + str(cnt) + '_M'+str(m)+'L'+str(l)+'N'+str(h)+'_test', MSE_test)\n",
    "#         cnt += 1"
   ]
  },
  {
   "cell_type": "markdown",
   "metadata": {},
   "source": [
    "### Learning Rate"
   ]
  },
  {
   "cell_type": "code",
   "execution_count": 19,
   "metadata": {},
   "outputs": [
    {
     "name": "stdout",
     "output_type": "stream",
     "text": [
      "MOMENTUM=0.1, LEARNING RATE=0.001\n"
     ]
    },
    {
     "data": {
      "image/png": "[encoded data removed]",
      "text/plain": [
       "<Figure size 864x648 with 8 Axes>"
      ]
     },
     "metadata": {
      "needs_background": "light"
     },
     "output_type": "display_data"
    }
   ],
   "source": [
    "print(\"MOMENTUM=0.1, LEARNING RATE=0.001\")\n",
    "MSE_train = np.load(PATH_MW + '0_M0.1L0.001N40_train.npy')\n",
    "MSE_test = np.load(PATH_MW + '0_M0.1L0.001N40_test.npy')\n",
    "MSE_train_mean = np.mean(MSE_train, axis=2)\n",
    "MSE_test_mean = np.mean(MSE_test, axis=2)\n",
    "MSE_train_sd = np.std(MSE_train, axis=2)\n",
    "MSE_test_sd = np.std(MSE_test, axis=2)\n",
    "\n",
    "v_min = min(np.min(MSE_train_mean), np.min(MSE_test_mean))\n",
    "v_max = max(np.max(MSE_train_mean), np.max(MSE_test_mean))\n",
    "\n",
    "n_rows = int(np.ceil(len(N_NEURONS)/3.0))\n",
    "pl.figure(figsize=(12,3*n_rows))\n",
    "for i_n, n in enumerate(N_NEURONS):\n",
    "    pl.subplot(n_rows, min(3, len(N_NEURONS)), i_n+1)\n",
    "    pl.fill_between(np.arange(EPOCHS), MSE_train_mean[i_n,:], MSE_train_mean[i_n,:]+MSE_train_sd[i_n,:], facecolor='blue', alpha=0.5, label='Train')\n",
    "    pl.fill_between(np.arange(EPOCHS), MSE_train_mean[i_n,:], MSE_train_mean[i_n,:]-MSE_train_sd[i_n,:], facecolor='blue', alpha=0.5)\n",
    "    pl.fill_between(np.arange(EPOCHS), MSE_test_mean[i_n,:], MSE_test_mean[i_n,:]+MSE_test_sd[i_n,:], facecolor='red', alpha=0.5, label='Test')\n",
    "    pl.fill_between(np.arange(EPOCHS), MSE_test_mean[i_n,:], MSE_test_mean[i_n,:]-MSE_test_sd[i_n,:], facecolor='red', alpha=0.5)\n",
    "    pl.ylim(0.95*v_min, 1.2*v_max)\n",
    "    pl.ylabel('MSE')\n",
    "    pl.xlabel('Number of epochs')\n",
    "    pl.title(str(K)+'-fold CV with '+str(n)+' hidden neurons')\n",
    "    pl.legend()\n",
    "    pl.grid()\n",
    "pl.tight_layout()"
   ]
  },
  {
   "cell_type": "code",
   "execution_count": 20,
   "metadata": {},
   "outputs": [
    {
     "name": "stdout",
     "output_type": "stream",
     "text": [
      "MOMENTUM=0.1, LEARNING RATE=0.1\n"
     ]
    },
    {
     "data": {
      "image/png": "[encoded data removed]",
      "text/plain": [
       "<Figure size 864x648 with 8 Axes>"
      ]
     },
     "metadata": {
      "needs_background": "light"
     },
     "output_type": "display_data"
    }
   ],
   "source": [
    "print(\"MOMENTUM=0.1, LEARNING RATE=0.1\")\n",
    "MSE_train = np.load(PATH_MW + '2_M0.1L0.1N40_train.npy')\n",
    "MSE_test = np.load(PATH_MW + '2_M0.1L0.1N40_test.npy')\n",
    "MSE_train_mean = np.mean(MSE_train, axis=2)\n",
    "MSE_test_mean = np.mean(MSE_test, axis=2)\n",
    "MSE_train_sd = np.std(MSE_train, axis=2)\n",
    "MSE_test_sd = np.std(MSE_test, axis=2)\n",
    "\n",
    "v_min = min(np.min(MSE_train_mean), np.min(MSE_test_mean))\n",
    "v_max = max(np.max(MSE_train_mean), np.max(MSE_test_mean))\n",
    "\n",
    "n_rows = int(np.ceil(len(N_NEURONS)/3.0))\n",
    "pl.figure(figsize=(12,3*n_rows))\n",
    "for i_n, n in enumerate(N_NEURONS):\n",
    "    pl.subplot(n_rows, min(3, len(N_NEURONS)), i_n+1)\n",
    "    pl.fill_between(np.arange(EPOCHS), MSE_train_mean[i_n,:], MSE_train_mean[i_n,:]+MSE_train_sd[i_n,:], facecolor='blue', alpha=0.5, label='Train')\n",
    "    pl.fill_between(np.arange(EPOCHS), MSE_train_mean[i_n,:], MSE_train_mean[i_n,:]-MSE_train_sd[i_n,:], facecolor='blue', alpha=0.5)\n",
    "    pl.fill_between(np.arange(EPOCHS), MSE_test_mean[i_n,:], MSE_test_mean[i_n,:]+MSE_test_sd[i_n,:], facecolor='red', alpha=0.5, label='Test')\n",
    "    pl.fill_between(np.arange(EPOCHS), MSE_test_mean[i_n,:], MSE_test_mean[i_n,:]-MSE_test_sd[i_n,:], facecolor='red', alpha=0.5)\n",
    "    pl.ylim(0.95*v_min, 1.2*v_max)\n",
    "    pl.ylabel('MSE')\n",
    "    pl.xlabel('Number of epochs')\n",
    "    pl.title(str(K)+'-fold CV with '+str(n)+' hidden neurons')\n",
    "    pl.legend()\n",
    "    pl.grid()\n",
    "pl.tight_layout()"
   ]
  },
  {
   "cell_type": "markdown",
   "metadata": {},
   "source": [
    "### Momentum"
   ]
  },
  {
   "cell_type": "code",
   "execution_count": 21,
   "metadata": {},
   "outputs": [
    {
     "name": "stdout",
     "output_type": "stream",
     "text": [
      "MOMENTUM=0.3, LEARNING RATE=0.001\n"
     ]
    },
    {
     "data": {
      "image/png": "[encoded data removed]",
      "text/plain": [
       "<Figure size 864x648 with 8 Axes>"
      ]
     },
     "metadata": {
      "needs_background": "light"
     },
     "output_type": "display_data"
    }
   ],
   "source": [
    "print(\"MOMENTUM=0.3, LEARNING RATE=0.001\")\n",
    "MSE_train = np.load(PATH_MW + '5_M0.3L0.001N40_train.npy')\n",
    "MSE_test = np.load(PATH_MW + '5_M0.3L0.001N40_test.npy')\n",
    "MSE_train_mean = np.mean(MSE_train, axis=2)\n",
    "MSE_test_mean = np.mean(MSE_test, axis=2)\n",
    "MSE_train_sd = np.std(MSE_train, axis=2)\n",
    "MSE_test_sd = np.std(MSE_test, axis=2)\n",
    "\n",
    "v_min = min(np.min(MSE_train_mean), np.min(MSE_test_mean))\n",
    "v_max = max(np.max(MSE_train_mean), np.max(MSE_test_mean))\n",
    "\n",
    "n_rows = int(np.ceil(len(N_NEURONS)/3.0))\n",
    "pl.figure(figsize=(12,3*n_rows))\n",
    "for i_n, n in enumerate(N_NEURONS):\n",
    "    pl.subplot(n_rows, min(3, len(N_NEURONS)), i_n+1)\n",
    "    pl.fill_between(np.arange(EPOCHS), MSE_train_mean[i_n,:], MSE_train_mean[i_n,:]+MSE_train_sd[i_n,:], facecolor='blue', alpha=0.5, label='Train')\n",
    "    pl.fill_between(np.arange(EPOCHS), MSE_train_mean[i_n,:], MSE_train_mean[i_n,:]-MSE_train_sd[i_n,:], facecolor='blue', alpha=0.5)\n",
    "    pl.fill_between(np.arange(EPOCHS), MSE_test_mean[i_n,:], MSE_test_mean[i_n,:]+MSE_test_sd[i_n,:], facecolor='red', alpha=0.5, label='Test')\n",
    "    pl.fill_between(np.arange(EPOCHS), MSE_test_mean[i_n,:], MSE_test_mean[i_n,:]-MSE_test_sd[i_n,:], facecolor='red', alpha=0.5)\n",
    "    pl.ylim(0.95*v_min, 1.2*v_max)\n",
    "    pl.ylabel('MSE')\n",
    "    pl.xlabel('Number of epochs')\n",
    "    pl.title(str(K)+'-fold CV with '+str(n)+' hidden neurons')\n",
    "    pl.legend()\n",
    "    pl.grid()\n",
    "pl.tight_layout()"
   ]
  },
  {
   "cell_type": "code",
   "execution_count": 22,
   "metadata": {},
   "outputs": [
    {
     "name": "stdout",
     "output_type": "stream",
     "text": [
      "MOMENTUM=0.7, LEARNING RATE=0.001\n"
     ]
    },
    {
     "data": {
      "image/png": "[encoded data removed]",
      "text/plain": [
       "<Figure size 864x648 with 8 Axes>"
      ]
     },
     "metadata": {
      "needs_background": "light"
     },
     "output_type": "display_data"
    }
   ],
   "source": [
    "print(\"MOMENTUM=0.7, LEARNING RATE=0.001\")\n",
    "MSE_train = np.load(PATH_MW + '10_M0.7L0.001N40_train.npy')\n",
    "MSE_test = np.load(PATH_MW + '10_M0.7L0.001N40_test.npy')\n",
    "MSE_train_mean = np.mean(MSE_train, axis=2)\n",
    "MSE_test_mean = np.mean(MSE_test, axis=2)\n",
    "MSE_train_sd = np.std(MSE_train, axis=2)\n",
    "MSE_test_sd = np.std(MSE_test, axis=2)\n",
    "\n",
    "v_min = min(np.min(MSE_train_mean), np.min(MSE_test_mean))\n",
    "v_max = max(np.max(MSE_train_mean), np.max(MSE_test_mean))\n",
    "\n",
    "n_rows = int(np.ceil(len(N_NEURONS)/3.0))\n",
    "pl.figure(figsize=(12,3*n_rows))\n",
    "for i_n, n in enumerate(N_NEURONS):\n",
    "    pl.subplot(n_rows, min(3, len(N_NEURONS)), i_n+1)\n",
    "    pl.fill_between(np.arange(EPOCHS), MSE_train_mean[i_n,:], MSE_train_mean[i_n,:]+MSE_train_sd[i_n,:], facecolor='blue', alpha=0.5, label='Train')\n",
    "    pl.fill_between(np.arange(EPOCHS), MSE_train_mean[i_n,:], MSE_train_mean[i_n,:]-MSE_train_sd[i_n,:], facecolor='blue', alpha=0.5)\n",
    "    pl.fill_between(np.arange(EPOCHS), MSE_test_mean[i_n,:], MSE_test_mean[i_n,:]+MSE_test_sd[i_n,:], facecolor='red', alpha=0.5, label='Test')\n",
    "    pl.fill_between(np.arange(EPOCHS), MSE_test_mean[i_n,:], MSE_test_mean[i_n,:]-MSE_test_sd[i_n,:], facecolor='red', alpha=0.5)\n",
    "    pl.ylim(0.95*v_min, 1.2*v_max)\n",
    "    pl.ylabel('MSE')\n",
    "    pl.xlabel('Number of epochs')\n",
    "    pl.title(str(K)+'-fold CV with '+str(n)+' hidden neurons')\n",
    "    pl.legend()\n",
    "    pl.grid()\n",
    "pl.tight_layout()"
   ]
  },
  {
   "cell_type": "markdown",
   "metadata": {},
   "source": [
    "### Number of neurons in the hidden layer"
   ]
  },
  {
   "cell_type": "code",
   "execution_count": 23,
   "metadata": {},
   "outputs": [
    {
     "data": {
      "text/plain": [
       "<matplotlib.legend.Legend at 0x11b16e080>"
      ]
     },
     "execution_count": 23,
     "metadata": {},
     "output_type": "execute_result"
    },
    {
     "data": {
      "image/png": "[encoded data removed]",
      "text/plain": [
       "<Figure size 432x288 with 1 Axes>"
      ]
     },
     "metadata": {
      "needs_background": "light"
     },
     "output_type": "display_data"
    }
   ],
   "source": [
    "MSE_train = np.load(PATH_MW + '0_M0.1L0.001N40_train.npy')\n",
    "MSE_test = np.load(PATH_MW + '0_M0.1L0.001N40_test.npy')\n",
    "\n",
    "# 16 neursons\n",
    "MSE_train_N16 = MSE_train[3, :, :]\n",
    "MSE_test_N16 = MSE_test[3, :, :]\n",
    "MSE_train_N16_mean = np.mean(MSE_train_N16, axis=1)\n",
    "MSE_test_N16_mean = np.mean(MSE_test_N16, axis=1)\n",
    "\n",
    "# 25 neurons\n",
    "MSE_train_N25 = MSE_train[5, :, :]\n",
    "MSE_test_N25 = MSE_test[5, :, :]\n",
    "MSE_train_N25_mean = np.mean(MSE_train_N25, axis=1)\n",
    "MSE_test_N25_mean = np.mean(MSE_test_N25, axis=1)\n",
    "\n",
    "# 30 neurons\n",
    "MSE_train_N30 = MSE_train[6, :, :]\n",
    "MSE_test_N30 = MSE_test[6, :, :]\n",
    "MSE_train_N30_mean = np.mean(MSE_train_N30, axis=1)\n",
    "MSE_test_N30_mean = np.mean(MSE_test_N30, axis=1)\n",
    "\n",
    "pl.plot(MSE_train_N16_mean, 'r', label='N=16, train')\n",
    "pl.plot(MSE_test_N16_mean, 'r--',label='N=16, test')\n",
    "pl.plot(MSE_train_N25_mean, 'g', label='N=25, train')\n",
    "pl.plot(MSE_test_N25_mean, 'g--',label='N=25, test')\n",
    "pl.plot(MSE_train_N30_mean, 'b', label='N=30, train')\n",
    "pl.plot(MSE_test_N30_mean, 'b--',label='N=30, test')\n",
    "pl.xlabel('epochs')\n",
    "pl.ylabel('MSE mean')\n",
    "pl.legend(bbox_to_anchor=(1.05, 1), loc='upper left', borderaxespad=0.)"
   ]
  },
  {
   "cell_type": "markdown",
   "metadata": {},
   "source": [
    "### The final model"
   ]
  },
  {
   "cell_type": "code",
   "execution_count": null,
   "metadata": {},
   "outputs": [],
   "source": [
    "# Final hyperparameters:\n",
    "M = 0.1      # momentum\n",
    "L = 0.001    # learning rate\n",
    "E = 60       # epochs\n",
    "K = 5        # number of folds\n",
    "N = 25       # number of neurons\n",
    "N_TESTS = 10 # number of tests"
   ]
  },
  {
   "cell_type": "code",
   "execution_count": null,
   "metadata": {},
   "outputs": [],
   "source": [
    "mw_nn = mlp.MLP([N_FEATURES,N,1], 'tanh')"
   ]
  },
  {
   "cell_type": "code",
   "execution_count": null,
   "metadata": {},
   "outputs": [],
   "source": [
    "mw_MSE_train, mw_MSE_test, mw_conf_mat = cv.k_fold_cross_validation(mw_nn,\n",
    "                                                                    mf_dataset,\n",
    "                                                                    k=K,\n",
    "                                                                    learning_rate=L,\n",
    "                                                                    momentum=M,\n",
    "                                                                    epochs=E,\n",
    "                                                                    threshold=0.0)"
   ]
  },
  {
   "cell_type": "code",
   "execution_count": null,
   "metadata": {},
   "outputs": [],
   "source": [
    "print('MSE training: ', mw_MSE_train)\n",
    "print('MSE test: ', mw_MSE_test)\n",
    "print('Confusion matrix:')\n",
    "print(mw_conf_mat)"
   ]
  },
  {
   "cell_type": "markdown",
   "metadata": {},
   "source": [
    "### Prediciton tests"
   ]
  },
  {
   "cell_type": "code",
   "execution_count": null,
   "metadata": {},
   "outputs": [],
   "source": [
    "def mf_predict(file):\n",
    "    '''\n",
    "    This function takes the audio filename as a parameter and predicts whether it corresponds to a man or woman voice\n",
    "    NOTE: the file must be present in ./vowels directory\n",
    "    '''\n",
    "    sample_rate, X = wav.read(os.path.join(PATH, file))\n",
    "    ceps = mfcc(X, samplerate=sample_rate, nfft=1200)\n",
    "    p = 0\n",
    "    # collect the predictions for every fragment of an audio\n",
    "    for i_f, f in enumerate(ceps):\n",
    "        p_i = mw_nn.predict(f)\n",
    "        p += p_i\n",
    "    # calculate the average prediction\n",
    "    if(p > 0):\n",
    "        return \"Man\"\n",
    "    else:\n",
    "        return \"Woman\""
   ]
  },
  {
   "cell_type": "code",
   "execution_count": null,
   "metadata": {},
   "outputs": [],
   "source": [
    "mf_predict('nafdloo.wav') # natural female"
   ]
  },
  {
   "cell_type": "code",
   "execution_count": null,
   "metadata": {},
   "outputs": [],
   "source": [
    "mf_predict('safkgil.wav') # synthetized female"
   ]
  },
  {
   "cell_type": "code",
   "execution_count": null,
   "metadata": {},
   "outputs": [],
   "source": [
    "mf_predict('namcraa.wav') # natural male"
   ]
  },
  {
   "cell_type": "code",
   "execution_count": null,
   "metadata": {},
   "outputs": [],
   "source": [
    "mf_predict('sampher.wav') # synthetized male"
   ]
  },
  {
   "cell_type": "code",
   "execution_count": null,
   "metadata": {},
   "outputs": [],
   "source": [
    "mf_predict('nk7bruu.wav') # natual kid"
   ]
  },
  {
   "cell_type": "code",
   "execution_count": null,
   "metadata": {},
   "outputs": [],
   "source": [
    "mf_predict('sk7brer.wav') # synthetized kid"
   ]
  },
  {
   "cell_type": "code",
   "execution_count": null,
   "metadata": {},
   "outputs": [],
   "source": [
    "mf_predict('samphil.wav') # synthetized male"
   ]
  },
  {
   "cell_type": "code",
   "execution_count": null,
   "metadata": {},
   "outputs": [],
   "source": [
    "mf_predict('samshoo.wav') # synthetized male"
   ]
  },
  {
   "cell_type": "code",
   "execution_count": null,
   "metadata": {},
   "outputs": [],
   "source": [
    "mf_predict('samshuu.wav') "
   ]
  },
  {
   "cell_type": "code",
   "execution_count": null,
   "metadata": {},
   "outputs": [],
   "source": [
    "mf_predict('safshal.wav')"
   ]
  },
  {
   "cell_type": "code",
   "execution_count": null,
   "metadata": {},
   "outputs": [],
   "source": [
    "mf_predict('safkgoo.wav')"
   ]
  },
  {
   "cell_type": "code",
   "execution_count": null,
   "metadata": {},
   "outputs": [],
   "source": [
    "mf_predict('samshul.wav')"
   ]
  },
  {
   "cell_type": "code",
   "execution_count": null,
   "metadata": {},
   "outputs": [],
   "source": [
    "mf_predict('namcril.wav')"
   ]
  },
  {
   "cell_type": "code",
   "execution_count": null,
   "metadata": {},
   "outputs": [],
   "source": [
    "mf_predict('namphii.wav')"
   ]
  },
  {
   "cell_type": "code",
   "execution_count": null,
   "metadata": {},
   "outputs": [],
   "source": [
    "mf_predict('nafdluh.wav')"
   ]
  },
  {
   "cell_type": "code",
   "execution_count": null,
   "metadata": {},
   "outputs": [],
   "source": [
    "mf_predict('nafkger.wav')"
   ]
  },
  {
   "cell_type": "code",
   "execution_count": null,
   "metadata": {},
   "outputs": [],
   "source": [
    "mf_predict('custom/sasha.wav')"
   ]
  },
  {
   "cell_type": "code",
   "execution_count": null,
   "metadata": {},
   "outputs": [],
   "source": [
    "mf_predict('custom/sam1.wav')"
   ]
  },
  {
   "cell_type": "code",
   "execution_count": null,
   "metadata": {},
   "outputs": [],
   "source": [
    "mf_predict('custom/sam2.wav')"
   ]
  },
  {
   "cell_type": "code",
   "execution_count": null,
   "metadata": {},
   "outputs": [],
   "source": [
    "mf_predict('custom/joe_rogan.wav')"
   ]
  },
  {
   "cell_type": "code",
   "execution_count": null,
   "metadata": {},
   "outputs": [],
   "source": [
    "mf_predict('custom/ksu.wav')"
   ]
  },
  {
   "cell_type": "markdown",
   "metadata": {},
   "source": [
    "## Woman vs Kid"
   ]
  },
  {
   "cell_type": "markdown",
   "metadata": {},
   "source": [
    "Extract audios corresponding to the women's and kids' voices and calculate the features"
   ]
  },
  {
   "cell_type": "code",
   "execution_count": null,
   "metadata": {},
   "outputs": [],
   "source": [
    "k_features = [] # array containing all features of the kids' (natural) voices\n",
    "f_features = [] # array containing all features of the women's (natural) voices\n",
    "for f in features:\n",
    "    if(f[1] == 2): \n",
    "        k_features.append(f[0])\n",
    "    elif(f[1] == 1):\n",
    "        f_features.append(f[0]) \n",
    "m_features = np.array(m_features)\n",
    "f_features = np.array(f_features)"
   ]
  },
  {
   "cell_type": "code",
   "execution_count": null,
   "metadata": {},
   "outputs": [],
   "source": [
    "# Final hyperparameters:\n",
    "M = 0.1      # momentum\n",
    "L = 0.001    # learning rate\n",
    "E = 60       # epochs\n",
    "K = 5        # number of folds\n",
    "N = 25       # number of neurons\n",
    "N_TESTS = 10 # number of tests\n",
    "selected_features = [0, 1, 2, 3, 4, 5, 6, 7, 8, 9, 10, 11, 12]"
   ]
  },
  {
   "cell_type": "markdown",
   "metadata": {},
   "source": [
    "Align by feature"
   ]
  },
  {
   "cell_type": "code",
   "execution_count": null,
   "metadata": {},
   "outputs": [],
   "source": [
    "kids_aligned = align_by_feature(k_features)\n",
    "women_aligned = align_by_feature(f_features)"
   ]
  },
  {
   "cell_type": "markdown",
   "metadata": {},
   "source": [
    "Create the dataset. Now the output for the kid's voice will be 1 and the output for the woman's voice will remain -1."
   ]
  },
  {
   "cell_type": "code",
   "execution_count": null,
   "metadata": {},
   "outputs": [],
   "source": [
    "wk_dataset = create_dataset(kids_aligned, women_aligned, selected_features)"
   ]
  },
  {
   "cell_type": "code",
   "execution_count": null,
   "metadata": {},
   "outputs": [],
   "source": [
    "wk_nn = mlp.MLP([N_FEATURES,N,1], 'tanh')"
   ]
  },
  {
   "cell_type": "code",
   "execution_count": null,
   "metadata": {},
   "outputs": [],
   "source": [
    "MSE_train, MSE_test, conf_mat = cv.k_fold_cross_validation(wk_nn,\n",
    "                                                          wk_dataset,\n",
    "                                                          k=K,\n",
    "                                                          learning_rate=L,\n",
    "                                                          momentum=M,\n",
    "                                                          epochs=E,\n",
    "                                                          threshold=0.0)"
   ]
  },
  {
   "cell_type": "code",
   "execution_count": null,
   "metadata": {},
   "outputs": [],
   "source": [
    "print('MSE training: ', MSE_train)\n",
    "print('MSE test: ', MSE_test)\n",
    "print('Confusion matrix:')\n",
    "print(conf_mat)"
   ]
  },
  {
   "cell_type": "code",
   "execution_count": null,
   "metadata": {},
   "outputs": [],
   "source": [
    "MOMENTUM_LIST = [0.1, 0.3, 0.5]\n",
    "LEARNING_RATE_LIST = [0.001]\n",
    "N_NEURONS = [30, 40]\n",
    "EPOCHS = E\n",
    "PATH_WK = PATH_EXPERIMENTS + 'WK/'"
   ]
  },
  {
   "cell_type": "code",
   "execution_count": null,
   "metadata": {},
   "outputs": [],
   "source": [
    "# The results of these experiment are listed in ./experiments/WK directory\n",
    "\n",
    "# cnt = 3\n",
    "# for m in MOMENTUM_LIST:\n",
    "#     print('MOMENTUM:', m)\n",
    "#     for l in LEARNING_RATE_LIST:\n",
    "#         print('MOMENTUM:', m, \"LEARNING RATE:\", l)\n",
    "        \n",
    "#         MSE_train = np.zeros((len(N_NEURONS), E, N_TESTS))\n",
    "#         MSE_test = np.zeros((len(N_NEURONS), E, N_TESTS))\n",
    "\n",
    "#         for i_h, h in enumerate(N_NEURONS):                                     # looping the number of hidden neurons\n",
    "#             print('Testing', h, 'neurons...')\n",
    "#             nn = mlp.MLP([input_size,h,1], 'tanh')\n",
    "#             for i in np.arange(N_TESTS):                                           # looping the tests\n",
    "#                 tt = time.time()\n",
    "#                 nn.init_weights()                                                  # the network has to be reinitialized before each test\n",
    "#                 temp1, temp2 = cv.k_fold_cross_validation_per_epoch(nn,            # notice that we do not use cv.k_fold_cross_validation\n",
    "#                                                             wk_dataset,    # but cv.k_fold_cross_validation_per_epoch which\n",
    "#                                                             k=K,           # returns a value of error per each epoch\n",
    "#                                                             learning_rate=l,\n",
    "#                                                             momentum=m,\n",
    "#                                                             epochs=E)\n",
    "#                 print (time.time() - tt)\n",
    "#         # temp1 and temp2 are the training and test error. One value per epoch\n",
    "#                 MSE_train[i_h, :, i] = temp1\n",
    "#                 MSE_test[i_h, :, i] = temp2\n",
    "#         print('Tests done')\n",
    "#         np.save(PATH_WK + str(cnt) + '_M'+str(m)+'L'+str(l)+'N'+str(h)+'_train', MSE_train)\n",
    "#         np.save(PATH_WK + str(cnt) + '_M'+str(m)+'L'+str(l)+'N'+str(h)+'_test', MSE_test)\n",
    "#         cnt += 1"
   ]
  },
  {
   "cell_type": "markdown",
   "metadata": {},
   "source": [
    "### Learning rate, Momentum, Numer of Neurons in the hidden layer"
   ]
  },
  {
   "cell_type": "code",
   "execution_count": null,
   "metadata": {},
   "outputs": [],
   "source": [
    "print(\"MOMENTUM=0.1, LEARNING RATE=0.001\")\n",
    "MSE_train = np.load(PATH_WK + '0_M0.1L0.001N30_train.npy')\n",
    "MSE_test = np.load(PATH_WK + '0_M0.1L0.001N30_test.npy')\n",
    "MSE_train_mean = np.mean(MSE_train, axis=2)\n",
    "MSE_test_mean = np.mean(MSE_test, axis=2)\n",
    "MSE_train_sd = np.std(MSE_train, axis=2)\n",
    "MSE_test_sd = np.std(MSE_test, axis=2)\n",
    "\n",
    "v_min = min(np.min(MSE_train_mean), np.min(MSE_test_mean))\n",
    "v_max = max(np.max(MSE_train_mean), np.max(MSE_test_mean))\n",
    "\n",
    "n_rows = int(np.ceil(len(N_NEURONS)/3.0))\n",
    "pl.figure(figsize=(12,3*n_rows))\n",
    "for i_n, n in enumerate(N_NEURONS):\n",
    "    pl.subplot(n_rows, min(3, len(N_NEURONS)), i_n+1)\n",
    "    pl.fill_between(np.arange(EPOCHS), MSE_train_mean[i_n,:], MSE_train_mean[i_n,:]+MSE_train_sd[i_n,:], facecolor='blue', alpha=0.5, label='Train')\n",
    "    pl.fill_between(np.arange(EPOCHS), MSE_train_mean[i_n,:], MSE_train_mean[i_n,:]-MSE_train_sd[i_n,:], facecolor='blue', alpha=0.5)\n",
    "    pl.fill_between(np.arange(EPOCHS), MSE_test_mean[i_n,:], MSE_test_mean[i_n,:]+MSE_test_sd[i_n,:], facecolor='red', alpha=0.5, label='Test')\n",
    "    pl.fill_between(np.arange(EPOCHS), MSE_test_mean[i_n,:], MSE_test_mean[i_n,:]-MSE_test_sd[i_n,:], facecolor='red', alpha=0.5)\n",
    "    pl.ylim(0.95*v_min, 1.2*v_max)\n",
    "    pl.ylabel('MSE')\n",
    "    pl.xlabel('Number of epochs')\n",
    "    pl.title(str(K)+'-fold CV with '+str(n)+' hidden neurons')\n",
    "    pl.legend()\n",
    "    pl.grid()\n",
    "pl.tight_layout()"
   ]
  },
  {
   "cell_type": "code",
   "execution_count": null,
   "metadata": {},
   "outputs": [],
   "source": [
    "print(\"MOMENTUM=0.1, LEARNING RATE=0.01\")\n",
    "MSE_train = np.load(PATH_WK + '1_M0.1L0.01N30_train.npy')\n",
    "MSE_test = np.load(PATH_WK + '1_M0.1L0.01N30_test.npy')\n",
    "MSE_train_mean = np.mean(MSE_train, axis=2)\n",
    "MSE_test_mean = np.mean(MSE_test, axis=2)\n",
    "MSE_train_sd = np.std(MSE_train, axis=2)\n",
    "MSE_test_sd = np.std(MSE_test, axis=2)\n",
    "\n",
    "v_min = min(np.min(MSE_train_mean), np.min(MSE_test_mean))\n",
    "v_max = max(np.max(MSE_train_mean), np.max(MSE_test_mean))\n",
    "\n",
    "n_rows = int(np.ceil(len(N_NEURONS)/3.0))\n",
    "pl.figure(figsize=(12,3*n_rows))\n",
    "for i_n, n in enumerate(N_NEURONS):\n",
    "    pl.subplot(n_rows, min(3, len(N_NEURONS)), i_n+1)\n",
    "    pl.fill_between(np.arange(EPOCHS), MSE_train_mean[i_n,:], MSE_train_mean[i_n,:]+MSE_train_sd[i_n,:], facecolor='blue', alpha=0.5, label='Train')\n",
    "    pl.fill_between(np.arange(EPOCHS), MSE_train_mean[i_n,:], MSE_train_mean[i_n,:]-MSE_train_sd[i_n,:], facecolor='blue', alpha=0.5)\n",
    "    pl.fill_between(np.arange(EPOCHS), MSE_test_mean[i_n,:], MSE_test_mean[i_n,:]+MSE_test_sd[i_n,:], facecolor='red', alpha=0.5, label='Test')\n",
    "    pl.fill_between(np.arange(EPOCHS), MSE_test_mean[i_n,:], MSE_test_mean[i_n,:]-MSE_test_sd[i_n,:], facecolor='red', alpha=0.5)\n",
    "    pl.ylim(0.95*v_min, 1.2*v_max)\n",
    "    pl.ylabel('MSE')\n",
    "    pl.xlabel('Number of epochs')\n",
    "    pl.title(str(K)+'-fold CV with '+str(n)+' hidden neurons')\n",
    "    pl.legend()\n",
    "    pl.grid()\n",
    "pl.tight_layout()"
   ]
  },
  {
   "cell_type": "code",
   "execution_count": null,
   "metadata": {},
   "outputs": [],
   "source": [
    "print(\"MOMENTUM=0.3, LEARNING RATE=0.001\")\n",
    "MSE_train = np.load(PATH_WK + '2_M0.3L0.001N30_train.npy')\n",
    "MSE_test = np.load(PATH_WK + '2_M0.3L0.001N30_test.npy')\n",
    "MSE_train_mean = np.mean(MSE_train, axis=2)\n",
    "MSE_test_mean = np.mean(MSE_test, axis=2)\n",
    "MSE_train_sd = np.std(MSE_train, axis=2)\n",
    "MSE_test_sd = np.std(MSE_test, axis=2)\n",
    "\n",
    "v_min = min(np.min(MSE_train_mean), np.min(MSE_test_mean))\n",
    "v_max = max(np.max(MSE_train_mean), np.max(MSE_test_mean))\n",
    "\n",
    "n_rows = int(np.ceil(len(N_NEURONS)/3.0))\n",
    "pl.figure(figsize=(12,3*n_rows))\n",
    "for i_n, n in enumerate(N_NEURONS):\n",
    "    pl.subplot(n_rows, min(3, len(N_NEURONS)), i_n+1)\n",
    "    pl.fill_between(np.arange(EPOCHS), MSE_train_mean[i_n,:], MSE_train_mean[i_n,:]+MSE_train_sd[i_n,:], facecolor='blue', alpha=0.5, label='Train')\n",
    "    pl.fill_between(np.arange(EPOCHS), MSE_train_mean[i_n,:], MSE_train_mean[i_n,:]-MSE_train_sd[i_n,:], facecolor='blue', alpha=0.5)\n",
    "    pl.fill_between(np.arange(EPOCHS), MSE_test_mean[i_n,:], MSE_test_mean[i_n,:]+MSE_test_sd[i_n,:], facecolor='red', alpha=0.5, label='Test')\n",
    "    pl.fill_between(np.arange(EPOCHS), MSE_test_mean[i_n,:], MSE_test_mean[i_n,:]-MSE_test_sd[i_n,:], facecolor='red', alpha=0.5)\n",
    "    pl.ylim(0.95*v_min, 1.2*v_max)\n",
    "    pl.ylabel('MSE')\n",
    "    pl.xlabel('Number of epochs')\n",
    "    pl.title(str(K)+'-fold CV with '+str(n)+' hidden neurons')\n",
    "    pl.legend()\n",
    "    pl.grid()\n",
    "pl.tight_layout()"
   ]
  },
  {
   "cell_type": "code",
   "execution_count": null,
   "metadata": {},
   "outputs": [],
   "source": [
    "print(\"MOMENTUM=0.5, LEARNING RATE=0.001\")\n",
    "MSE_train = np.load(PATH_WK + '5_M0.5L0.001N40_train.npy')\n",
    "MSE_test = np.load(PATH_WK + '5_M0.5L0.001N40_test.npy')\n",
    "MSE_train_mean = np.mean(MSE_train, axis=2)\n",
    "MSE_test_mean = np.mean(MSE_test, axis=2)\n",
    "MSE_train_sd = np.std(MSE_train, axis=2)\n",
    "MSE_test_sd = np.std(MSE_test, axis=2)\n",
    "\n",
    "v_min = min(np.min(MSE_train_mean), np.min(MSE_test_mean))\n",
    "v_max = max(np.max(MSE_train_mean), np.max(MSE_test_mean))\n",
    "\n",
    "n_rows = int(np.ceil(len(N_NEURONS)/3.0))\n",
    "pl.figure(figsize=(12,3*n_rows))\n",
    "for i_n, n in enumerate(N_NEURONS):\n",
    "    pl.subplot(n_rows, min(3, len(N_NEURONS)), i_n+1)\n",
    "    pl.fill_between(np.arange(EPOCHS), MSE_train_mean[i_n,:], MSE_train_mean[i_n,:]+MSE_train_sd[i_n,:], facecolor='blue', alpha=0.5, label='Train')\n",
    "    pl.fill_between(np.arange(EPOCHS), MSE_train_mean[i_n,:], MSE_train_mean[i_n,:]-MSE_train_sd[i_n,:], facecolor='blue', alpha=0.5)\n",
    "    pl.fill_between(np.arange(EPOCHS), MSE_test_mean[i_n,:], MSE_test_mean[i_n,:]+MSE_test_sd[i_n,:], facecolor='red', alpha=0.5, label='Test')\n",
    "    pl.fill_between(np.arange(EPOCHS), MSE_test_mean[i_n,:], MSE_test_mean[i_n,:]-MSE_test_sd[i_n,:], facecolor='red', alpha=0.5)\n",
    "    pl.ylim(0.95*v_min, 1.2*v_max)\n",
    "    pl.ylabel('MSE')\n",
    "    pl.xlabel('Number of epochs')\n",
    "    pl.title(str(K)+'-fold CV with '+str(n)+' hidden neurons')\n",
    "    pl.legend()\n",
    "    pl.grid()\n",
    "pl.tight_layout()"
   ]
  },
  {
   "cell_type": "markdown",
   "metadata": {},
   "source": [
    "The MSE gets better when the value of momentum grows. We will execute some tests with a higher value of momentum and more neurons in the hidden layer"
   ]
  },
  {
   "cell_type": "code",
   "execution_count": null,
   "metadata": {},
   "outputs": [],
   "source": [
    "MOMENTUM_LIST = [0.7, 0.9]\n",
    "LEARNING_RATE_LIST = [0.001]\n",
    "N_NEURONS = [30, 40]"
   ]
  },
  {
   "cell_type": "code",
   "execution_count": null,
   "metadata": {},
   "outputs": [],
   "source": [
    "# The results of these experimenst are listed in ./experiments/WK\n",
    "\n",
    "# cnt = 6\n",
    "# for m in MOMENTUM_LIST:\n",
    "#     print('MOMENTUM:', m)\n",
    "#     for l in LEARNING_RATE_LIST:\n",
    "#         print('MOMENTUM:', m, \"LEARNING RATE:\", l)\n",
    "        \n",
    "#         MSE_train = np.zeros((len(N_NEURONS), E, N_TESTS))\n",
    "#         MSE_test = np.zeros((len(N_NEURONS), E, N_TESTS))\n",
    "\n",
    "#         for i_h, h in enumerate(N_NEURONS):                                     # looping the number of hidden neurons\n",
    "#             print('Testing', h, 'neurons...')\n",
    "#             nn = mlp.MLP([input_size,h,1], 'tanh')\n",
    "#             for i in np.arange(N_TESTS):                                           # looping the tests\n",
    "#                 tt = time.time()\n",
    "#                 nn.init_weights()                                                  # the network has to be reinitialized before each test\n",
    "#                 temp1, temp2 = cv.k_fold_cross_validation_per_epoch(nn,            # notice that we do not use cv.k_fold_cross_validation\n",
    "#                                                             wk_dataset,    # but cv.k_fold_cross_validation_per_epoch which\n",
    "#                                                             k=K,           # returns a value of error per each epoch\n",
    "#                                                             learning_rate=l,\n",
    "#                                                             momentum=m,\n",
    "#                                                             epochs=E)\n",
    "#                 print (time.time() - tt)\n",
    "#         # temp1 and temp2 are the training and test error. One value per epoch\n",
    "#                 MSE_train[i_h, :, i] = temp1\n",
    "#                 MSE_test[i_h, :, i] = temp2\n",
    "#         print('Tests done')\n",
    "#         np.save(PATH_WK + str(cnt) + '_M'+str(m)+'L'+str(l)+'N'+str(h)+'_train', MSE_train)\n",
    "#         np.save(PATH_WK + str(cnt) + '_M'+str(m)+'L'+str(l)+'N'+str(h)+'_test', MSE_test)\n",
    "#         cnt += 1"
   ]
  },
  {
   "cell_type": "code",
   "execution_count": null,
   "metadata": {},
   "outputs": [],
   "source": [
    "print(\"MOMENTUM=0.7, LEARNING RATE=0.001\")\n",
    "MSE_train = np.load(PATH_WK + '6_M0.7L0.001N40_train.npy')\n",
    "MSE_test = np.load(PATH_WK + '6_M0.7L0.001N40_test.npy')\n",
    "MSE_train_mean = np.mean(MSE_train, axis=2)\n",
    "MSE_test_mean = np.mean(MSE_test, axis=2)\n",
    "MSE_train_sd = np.std(MSE_train, axis=2)\n",
    "MSE_test_sd = np.std(MSE_test, axis=2)\n",
    "\n",
    "v_min = min(np.min(MSE_train_mean), np.min(MSE_test_mean))\n",
    "v_max = max(np.max(MSE_train_mean), np.max(MSE_test_mean))\n",
    "\n",
    "n_rows = int(np.ceil(len(N_NEURONS)/3.0))\n",
    "pl.figure(figsize=(12,3*n_rows))\n",
    "for i_n, n in enumerate(N_NEURONS):\n",
    "    pl.subplot(n_rows, min(3, len(N_NEURONS)), i_n+1)\n",
    "    pl.fill_between(np.arange(EPOCHS), MSE_train_mean[i_n,:], MSE_train_mean[i_n,:]+MSE_train_sd[i_n,:], facecolor='blue', alpha=0.5, label='Train')\n",
    "    pl.fill_between(np.arange(EPOCHS), MSE_train_mean[i_n,:], MSE_train_mean[i_n,:]-MSE_train_sd[i_n,:], facecolor='blue', alpha=0.5)\n",
    "    pl.fill_between(np.arange(EPOCHS), MSE_test_mean[i_n,:], MSE_test_mean[i_n,:]+MSE_test_sd[i_n,:], facecolor='red', alpha=0.5, label='Test')\n",
    "    pl.fill_between(np.arange(EPOCHS), MSE_test_mean[i_n,:], MSE_test_mean[i_n,:]-MSE_test_sd[i_n,:], facecolor='red', alpha=0.5)\n",
    "    pl.ylim(0.95*v_min, 1.2*v_max)\n",
    "    pl.ylabel('MSE')\n",
    "    pl.xlabel('Number of epochs')\n",
    "    pl.title(str(K)+'-fold CV with '+str(n)+' hidden neurons')\n",
    "    pl.legend()\n",
    "    pl.grid()\n",
    "pl.tight_layout()"
   ]
  },
  {
   "cell_type": "code",
   "execution_count": null,
   "metadata": {},
   "outputs": [],
   "source": [
    "print(\"MOMENTUM=0.9, LEARNING RATE=0.001\")\n",
    "MSE_train = np.load(PATH_WK + '7_M0.9L0.001N40_train.npy')\n",
    "MSE_test = np.load(PATH_WK + '7_M0.9L0.001N40_test.npy')\n",
    "MSE_train_mean = np.mean(MSE_train, axis=2)\n",
    "MSE_test_mean = np.mean(MSE_test, axis=2)\n",
    "MSE_train_sd = np.std(MSE_train, axis=2)\n",
    "MSE_test_sd = np.std(MSE_test, axis=2)\n",
    "\n",
    "v_min = min(np.min(MSE_train_mean), np.min(MSE_test_mean))\n",
    "v_max = max(np.max(MSE_train_mean), np.max(MSE_test_mean))\n",
    "\n",
    "n_rows = int(np.ceil(len(N_NEURONS)/3.0))\n",
    "pl.figure(figsize=(12,3*n_rows))\n",
    "for i_n, n in enumerate(N_NEURONS):\n",
    "    pl.subplot(n_rows, min(3, len(N_NEURONS)), i_n+1)\n",
    "    pl.fill_between(np.arange(EPOCHS), MSE_train_mean[i_n,:], MSE_train_mean[i_n,:]+MSE_train_sd[i_n,:], facecolor='blue', alpha=0.5, label='Train')\n",
    "    pl.fill_between(np.arange(EPOCHS), MSE_train_mean[i_n,:], MSE_train_mean[i_n,:]-MSE_train_sd[i_n,:], facecolor='blue', alpha=0.5)\n",
    "    pl.fill_between(np.arange(EPOCHS), MSE_test_mean[i_n,:], MSE_test_mean[i_n,:]+MSE_test_sd[i_n,:], facecolor='red', alpha=0.5, label='Test')\n",
    "    pl.fill_between(np.arange(EPOCHS), MSE_test_mean[i_n,:], MSE_test_mean[i_n,:]-MSE_test_sd[i_n,:], facecolor='red', alpha=0.5)\n",
    "    pl.ylim(0.95*v_min, 1.2*v_max)\n",
    "    pl.ylabel('MSE')\n",
    "    pl.xlabel('Number of epochs')\n",
    "    pl.title(str(K)+'-fold CV with '+str(n)+' hidden neurons')\n",
    "    pl.legend()\n",
    "    pl.grid()\n",
    "pl.tight_layout()"
   ]
  },
  {
   "cell_type": "code",
   "execution_count": null,
   "metadata": {},
   "outputs": [],
   "source": [
    "MOMENTUM_LIST = [0.5]\n",
    "LEARNING_RATE_LIST = [0.001]\n",
    "N_NEURONS = [40, 50]\n",
    "EPOCHS = 100\n",
    "E = 100"
   ]
  },
  {
   "cell_type": "code",
   "execution_count": null,
   "metadata": {},
   "outputs": [],
   "source": [
    "# The results of these experiments are listed in ./experiments/WK\n",
    "\n",
    "# cnt = 8\n",
    "# for m in MOMENTUM_LIST:\n",
    "#     print('MOMENTUM:', m)\n",
    "#     for l in LEARNING_RATE_LIST:\n",
    "#         print('MOMENTUM:', m, \"LEARNING RATE:\", l)\n",
    "        \n",
    "#         MSE_train = np.zeros((len(N_NEURONS), E, N_TESTS))\n",
    "#         MSE_test = np.zeros((len(N_NEURONS), E, N_TESTS))\n",
    "\n",
    "#         for i_h, h in enumerate(N_NEURONS):                                     # looping the number of hidden neurons\n",
    "#             print('Testing', h, 'neurons...')\n",
    "#             nn = mlp.MLP([input_size,h,1], 'tanh')\n",
    "#             for i in np.arange(N_TESTS):                                           # looping the tests\n",
    "#                 tt = time.time()\n",
    "#                 nn.init_weights()                                                  # the network has to be reinitialized before each test\n",
    "#                 temp1, temp2 = cv.k_fold_cross_validation_per_epoch(nn,            # notice that we do not use cv.k_fold_cross_validation\n",
    "#                                                             wk_dataset,    # but cv.k_fold_cross_validation_per_epoch which\n",
    "#                                                             k=K,           # returns a value of error per each epoch\n",
    "#                                                             learning_rate=l,\n",
    "#                                                             momentum=m,\n",
    "#                                                             epochs=E)\n",
    "#                 print (time.time() - tt)\n",
    "#         # temp1 and temp2 are the training and test error. One value per epoch\n",
    "#                 MSE_train[i_h, :, i] = temp1\n",
    "#                 MSE_test[i_h, :, i] = temp2\n",
    "#         print('Tests done')\n",
    "#         np.save(PATH_WK + str(cnt) + '_M'+str(m)+'L'+str(l)+'N'+str(h)+'_train', MSE_train)\n",
    "#         np.save(PATH_WK + str(cnt) + '_M'+str(m)+'L'+str(l)+'N'+str(h)+'_test', MSE_test)\n",
    "#         cnt += 1"
   ]
  },
  {
   "cell_type": "code",
   "execution_count": null,
   "metadata": {},
   "outputs": [],
   "source": [
    "print(\"MOMENTUM=0.5, LEARNING RATE=0.001\")\n",
    "MSE_train = np.load(PATH_WK + '8_M0.5L0.001N50_train.npy')\n",
    "MSE_test = np.load(PATH_WK + '8_M0.5L0.001N50_test.npy')\n",
    "MSE_train_mean = np.mean(MSE_train, axis=2)\n",
    "MSE_test_mean = np.mean(MSE_test, axis=2)\n",
    "MSE_train_sd = np.std(MSE_train, axis=2)\n",
    "MSE_test_sd = np.std(MSE_test, axis=2)\n",
    "\n",
    "v_min = min(np.min(MSE_train_mean), np.min(MSE_test_mean))\n",
    "v_max = max(np.max(MSE_train_mean), np.max(MSE_test_mean))\n",
    "\n",
    "n_rows = int(np.ceil(len(N_NEURONS)/3.0))\n",
    "pl.figure(figsize=(12,3*n_rows))\n",
    "for i_n, n in enumerate(N_NEURONS):\n",
    "    pl.subplot(n_rows, min(3, len(N_NEURONS)), i_n+1)\n",
    "    pl.fill_between(np.arange(EPOCHS), MSE_train_mean[i_n,:], MSE_train_mean[i_n,:]+MSE_train_sd[i_n,:], facecolor='blue', alpha=0.5, label='Train')\n",
    "    pl.fill_between(np.arange(EPOCHS), MSE_train_mean[i_n,:], MSE_train_mean[i_n,:]-MSE_train_sd[i_n,:], facecolor='blue', alpha=0.5)\n",
    "    pl.fill_between(np.arange(EPOCHS), MSE_test_mean[i_n,:], MSE_test_mean[i_n,:]+MSE_test_sd[i_n,:], facecolor='red', alpha=0.5, label='Test')\n",
    "    pl.fill_between(np.arange(EPOCHS), MSE_test_mean[i_n,:], MSE_test_mean[i_n,:]-MSE_test_sd[i_n,:], facecolor='red', alpha=0.5)\n",
    "    pl.ylim(0.95*v_min, 1.2*v_max)\n",
    "    pl.ylabel('MSE')\n",
    "    pl.xlabel('Number of epochs')\n",
    "    pl.title(str(K)+'-fold CV with '+str(n)+' hidden neurons')\n",
    "    pl.legend()\n",
    "    pl.grid()\n",
    "pl.tight_layout()"
   ]
  },
  {
   "cell_type": "markdown",
   "metadata": {},
   "source": [
    "__Final Model__"
   ]
  },
  {
   "cell_type": "code",
   "execution_count": null,
   "metadata": {},
   "outputs": [],
   "source": [
    "# Final hyperparameters:\n",
    "M = 0.5      # momentum\n",
    "L = 0.001    # learning rate\n",
    "E = 60       # epochs\n",
    "K = 5        # number of folds\n",
    "N = 40       # number of neurons\n",
    "N_TESTS = 10 # number of tests\n",
    "selected_features = [0, 1, 2, 3, 4, 5, 6, 7, 8, 9, 10, 11, 12]"
   ]
  },
  {
   "cell_type": "code",
   "execution_count": null,
   "metadata": {},
   "outputs": [],
   "source": [
    "wk_nn = mlp.MLP([N_FEATURES,N,1], 'tanh')"
   ]
  },
  {
   "cell_type": "code",
   "execution_count": null,
   "metadata": {},
   "outputs": [],
   "source": [
    "wk_MSE_train, wk_MSE_test, wk_conf_mat = cv.k_fold_cross_validation(wk_nn,\n",
    "                                                                    wk_dataset,\n",
    "                                                                    k=K,\n",
    "                                                                    learning_rate=L,\n",
    "                                                                    momentum=M,\n",
    "                                                                    epochs=E,\n",
    "                                                                    threshold=0.0)"
   ]
  },
  {
   "cell_type": "code",
   "execution_count": null,
   "metadata": {},
   "outputs": [],
   "source": [
    "print('MSE training: ', wk_MSE_train)\n",
    "print('MSE test: ', wk_MSE_test)\n",
    "print('Confusion matrix:')\n",
    "print(wk_conf_mat)"
   ]
  },
  {
   "cell_type": "code",
   "execution_count": null,
   "metadata": {},
   "outputs": [],
   "source": [
    "def wk_predict(file):\n",
    "    '''\n",
    "    This function takes the audio filename as a parameter and predicts whether it corresponds to a woman or kid voice\n",
    "    NOTE: the file must be present in ./vowels directory\n",
    "    '''\n",
    "    sample_rate, X = wav.read(os.path.join(PATH, file))\n",
    "    ceps = mfcc(X, samplerate=sample_rate, nfft=1200)\n",
    "    p = 0\n",
    "    # collect the predictions for every fragment of an audio\n",
    "    for i_f, f in enumerate(ceps):\n",
    "        p_i = wk_nn.predict(f)\n",
    "        p += p_i\n",
    "    # calculate the average prediction\n",
    "    if(p > 0):\n",
    "        return \"Kid\"\n",
    "    else:\n",
    "        return \"Woman\""
   ]
  },
  {
   "cell_type": "code",
   "execution_count": null,
   "metadata": {},
   "outputs": [],
   "source": [
    "wk_predict('nafdlaa.wav')"
   ]
  },
  {
   "cell_type": "code",
   "execution_count": null,
   "metadata": {},
   "outputs": [],
   "source": [
    "wk_predict('nafdlel.wav')"
   ]
  },
  {
   "cell_type": "code",
   "execution_count": null,
   "metadata": {},
   "outputs": [],
   "source": [
    "wk_predict('nafdluh.wav')"
   ]
  },
  {
   "cell_type": "code",
   "execution_count": null,
   "metadata": {},
   "outputs": [],
   "source": [
    "wk_predict('nk3ajil.wav')"
   ]
  },
  {
   "cell_type": "code",
   "execution_count": null,
   "metadata": {},
   "outputs": [],
   "source": [
    "wk_predict('nk3araa.wav')"
   ]
  },
  {
   "cell_type": "code",
   "execution_count": null,
   "metadata": {},
   "outputs": [],
   "source": [
    "wk_predict('nk3kmaw.wav')"
   ]
  },
  {
   "cell_type": "code",
   "execution_count": null,
   "metadata": {},
   "outputs": [],
   "source": [
    "wk_predict('nk3kmer.wav')"
   ]
  },
  {
   "cell_type": "code",
   "execution_count": null,
   "metadata": {},
   "outputs": [],
   "source": [
    "wk_predict('safdluu.wav')"
   ]
  },
  {
   "cell_type": "code",
   "execution_count": null,
   "metadata": {},
   "outputs": [],
   "source": [
    "wk_predict('safkgal.wav')"
   ]
  },
  {
   "cell_type": "code",
   "execution_count": null,
   "metadata": {},
   "outputs": [],
   "source": [
    "wk_predict('safkgul.wav')"
   ]
  },
  {
   "cell_type": "code",
   "execution_count": null,
   "metadata": {},
   "outputs": [],
   "source": [
    "wk_predict('sk3ajaa.wav')"
   ]
  },
  {
   "cell_type": "code",
   "execution_count": null,
   "metadata": {},
   "outputs": [],
   "source": [
    "wk_predict('sk3ajer.wav')"
   ]
  },
  {
   "cell_type": "code",
   "execution_count": null,
   "metadata": {},
   "outputs": [],
   "source": [
    "wk_predict('sk3araa.wav')"
   ]
  },
  {
   "cell_type": "code",
   "execution_count": null,
   "metadata": {},
   "outputs": [],
   "source": [
    "wk_predict('sk3araw.wav')"
   ]
  },
  {
   "cell_type": "code",
   "execution_count": null,
   "metadata": {},
   "outputs": [],
   "source": [
    "wk_predict('namphaa.wav')"
   ]
  },
  {
   "cell_type": "code",
   "execution_count": null,
   "metadata": {},
   "outputs": [],
   "source": [
    "wk_predict('namphee.wav')"
   ]
  },
  {
   "cell_type": "code",
   "execution_count": null,
   "metadata": {},
   "outputs": [],
   "source": [
    "wk_predict('samcral.wav')"
   ]
  },
  {
   "cell_type": "code",
   "execution_count": null,
   "metadata": {},
   "outputs": [],
   "source": [
    "wk_predict('samcree.wav')"
   ]
  },
  {
   "cell_type": "code",
   "execution_count": null,
   "metadata": {},
   "outputs": [],
   "source": [
    "wk_predict('custom/ksu.wav')"
   ]
  },
  {
   "cell_type": "code",
   "execution_count": null,
   "metadata": {},
   "outputs": [],
   "source": [
    "wk_predict('custom/sasha.wav')"
   ]
  },
  {
   "cell_type": "code",
   "execution_count": null,
   "metadata": {},
   "outputs": [],
   "source": [
    "wk_predict('custom/sam.wav')"
   ]
  },
  {
   "cell_type": "code",
   "execution_count": null,
   "metadata": {},
   "outputs": [],
   "source": [
    "wk_predict('custom/joe_rogan.wav')"
   ]
  },
  {
   "cell_type": "markdown",
   "metadata": {},
   "source": [
    "## Man vs Woman vs Kid"
   ]
  },
  {
   "cell_type": "code",
   "execution_count": null,
   "metadata": {},
   "outputs": [],
   "source": [
    "print(len(men_aligned[0]))\n",
    "print(len(men_aligned[1]))\n",
    "print(len(women_aligned[0]))\n",
    "print(len(women_aligned[1]))\n",
    "print(len(kids_aligned[0]))\n",
    "print(len(kids_aligned[1]))\n",
    "print(selected_features)"
   ]
  },
  {
   "cell_type": "code",
   "execution_count": null,
   "metadata": {},
   "outputs": [],
   "source": [
    "# create a dataset with 2 outputs for the 3-classes classifier\n",
    "def create_dataset_2(m_aligned, w_aligned, k_aligned, selected_features):\n",
    "    '''\n",
    "    output layer:\n",
    "        - man: [1, 1]\n",
    "        - woman [-1, -1]\n",
    "        - kid: [1, -1]\n",
    "    '''\n",
    "    m_len = len(m_aligned[0])\n",
    "    w_len = len(w_aligned[0])\n",
    "    k_len = len(k_aligned[0])\n",
    "    extracted = np.zeros(((m_len+w_len+k_len), len(selected_features)+2))\n",
    "    for i, fi in enumerate(selected_features):\n",
    "        extracted[:, i] = np.concatenate((m_aligned[fi], w_aligned[fi], k_aligned[fi]))\n",
    "    # first output nodes\n",
    "    extracted[:, extracted.shape[1]-2] = np.concatenate((np.ones(m_len), -1*np.ones(w_len), np.ones(k_len)))\n",
    "    extracted[:, extracted.shape[1]-1] = np.concatenate((np.ones(m_len), -1*np.ones(w_len), -1*np.ones(k_len)))\n",
    "    return extracted"
   ]
  },
  {
   "cell_type": "code",
   "execution_count": null,
   "metadata": {},
   "outputs": [],
   "source": [
    "mwk_dataset = create_dataset_2(men_aligned, women_aligned, kids_aligned, selected_features)"
   ]
  },
  {
   "cell_type": "code",
   "execution_count": null,
   "metadata": {},
   "outputs": [],
   "source": [
    "mwk_dataset.shape"
   ]
  },
  {
   "cell_type": "code",
   "execution_count": null,
   "metadata": {},
   "outputs": [],
   "source": [
    "M = 0.5      # momentum\n",
    "L = 0.001    # learning rate\n",
    "E = 60       # epochs\n",
    "K = 5        # number of folds\n",
    "N = 40       # number of neurons\n",
    "N_TESTS = 10 # number of tests\n",
    "selected_features = [0, 1, 2, 3, 4, 5, 6, 7, 8, 9, 10, 11, 12]"
   ]
  },
  {
   "cell_type": "code",
   "execution_count": null,
   "metadata": {},
   "outputs": [],
   "source": [
    "mwk_nn = mlp.MLP([N_FEATURES,N,2], 'tanh')"
   ]
  },
  {
   "cell_type": "code",
   "execution_count": null,
   "metadata": {},
   "outputs": [],
   "source": [
    "MSE_train, MSE_test, conf_mat = cv.k_fold_cross_validation(mwk_nn,\n",
    "                                                          mwk_dataset,\n",
    "                                                          k=K,\n",
    "                                                          learning_rate=L,\n",
    "                                                          momentum=M,\n",
    "                                                          epochs=E,\n",
    "                                                          threshold=0.0)"
   ]
  },
  {
   "cell_type": "code",
   "execution_count": null,
   "metadata": {},
   "outputs": [],
   "source": [
    "print('MSE training: ', MSE_train)\n",
    "print('MSE test: ', MSE_test)\n",
    "print('Confusion matrix:')\n",
    "print(conf_mat)"
   ]
  },
  {
   "cell_type": "code",
   "execution_count": null,
   "metadata": {},
   "outputs": [],
   "source": [
    "MOMENTUM_LIST = [0.3, 0.5, 0.7]\n",
    "LEARNING_RATE_LIST = [0.001]\n",
    "N_NEURONS = [40, 50]\n",
    "EPOCHS = E\n",
    "PATH_MWK = PATH_EXPERIMENTS + 'MWK/'"
   ]
  },
  {
   "cell_type": "code",
   "execution_count": null,
   "metadata": {},
   "outputs": [],
   "source": [
    "# The results of these experiments are listed in ./experiments/MWK\n",
    "\n",
    "# cnt = 0\n",
    "# for m in MOMENTUM_LIST:\n",
    "#     print('MOMENTUM:', m)\n",
    "#     for l in LEARNING_RATE_LIST:\n",
    "#         print('MOMENTUM:', m, \"LEARNING RATE:\", l)\n",
    "        \n",
    "#         MSE_train = np.zeros((len(N_NEURONS), E, N_TESTS))\n",
    "#         MSE_test = np.zeros((len(N_NEURONS), E, N_TESTS))\n",
    "\n",
    "#         for i_h, h in enumerate(N_NEURONS):                                     # looping the number of hidden neurons\n",
    "#             print('Testing', h, 'neurons...')\n",
    "#             nn = mlp.MLP([input_size,h,1], 'tanh')\n",
    "#             for i in np.arange(N_TESTS):                                           # looping the tests\n",
    "#                 tt = time.time()\n",
    "#                 nn.init_weights()                                                  # the network has to be reinitialized before each test\n",
    "#                 temp1, temp2 = cv.k_fold_cross_validation_per_epoch(nn,            # notice that we do not use cv.k_fold_cross_validation\n",
    "#                                                             wk_dataset,    # but cv.k_fold_cross_validation_per_epoch which\n",
    "#                                                             k=K,           # returns a value of error per each epoch\n",
    "#                                                             learning_rate=l,\n",
    "#                                                             momentum=m,\n",
    "#                                                             epochs=E)\n",
    "#                 print (time.time() - tt)\n",
    "#         # temp1 and temp2 are the training and test error. One value per epoch\n",
    "#                 MSE_train[i_h, :, i] = temp1\n",
    "#                 MSE_test[i_h, :, i] = temp2\n",
    "#         print('Tests done')\n",
    "#         np.save(PATH_MWK + str(cnt) + '_M'+str(m)+'L'+str(l)+'N'+str(h)+'_train', MSE_train)\n",
    "#         np.save(PATH_MWK + str(cnt) + '_M'+str(m)+'L'+str(l)+'N'+str(h)+'_test', MSE_test)\n",
    "#         cnt += 1"
   ]
  },
  {
   "cell_type": "code",
   "execution_count": null,
   "metadata": {},
   "outputs": [],
   "source": [
    "print(\"MOMENTUM=0.3, LEARNING RATE=0.001\")\n",
    "MSE_train = np.load(PATH_MWK + '0_M0.3L0.001N50_train.npy')\n",
    "MSE_test = np.load(PATH_MWK + '0_M0.3L0.001N50_test.npy')\n",
    "MSE_train_mean = np.mean(MSE_train, axis=2)\n",
    "MSE_test_mean = np.mean(MSE_test, axis=2)\n",
    "MSE_train_sd = np.std(MSE_train, axis=2)\n",
    "MSE_test_sd = np.std(MSE_test, axis=2)\n",
    "\n",
    "v_min = min(np.min(MSE_train_mean), np.min(MSE_test_mean))\n",
    "v_max = max(np.max(MSE_train_mean), np.max(MSE_test_mean))\n",
    "\n",
    "n_rows = int(np.ceil(len(N_NEURONS)/3.0))\n",
    "pl.figure(figsize=(12,3*n_rows))\n",
    "for i_n, n in enumerate(N_NEURONS):\n",
    "    pl.subplot(n_rows, min(3, len(N_NEURONS)), i_n+1)\n",
    "    pl.fill_between(np.arange(EPOCHS), MSE_train_mean[i_n,:], MSE_train_mean[i_n,:]+MSE_train_sd[i_n,:], facecolor='blue', alpha=0.5, label='Train')\n",
    "    pl.fill_between(np.arange(EPOCHS), MSE_train_mean[i_n,:], MSE_train_mean[i_n,:]-MSE_train_sd[i_n,:], facecolor='blue', alpha=0.5)\n",
    "    pl.fill_between(np.arange(EPOCHS), MSE_test_mean[i_n,:], MSE_test_mean[i_n,:]+MSE_test_sd[i_n,:], facecolor='red', alpha=0.5, label='Test')\n",
    "    pl.fill_between(np.arange(EPOCHS), MSE_test_mean[i_n,:], MSE_test_mean[i_n,:]-MSE_test_sd[i_n,:], facecolor='red', alpha=0.5)\n",
    "    pl.ylim(0.95*v_min, 1.2*v_max)\n",
    "    pl.ylabel('MSE')\n",
    "    pl.xlabel('Number of epochs')\n",
    "    pl.title(str(K)+'-fold CV with '+str(n)+' hidden neurons')\n",
    "    pl.legend()\n",
    "    pl.grid()\n",
    "pl.tight_layout()"
   ]
  },
  {
   "cell_type": "code",
   "execution_count": null,
   "metadata": {},
   "outputs": [],
   "source": [
    "print(\"MOMENTUM=0.5, LEARNING RATE=0.001\")\n",
    "MSE_train = np.load(PATH_MWK + '1_M0.5L0.001N50_train.npy')\n",
    "MSE_test = np.load(PATH_MWK + '1_M0.5L0.001N50_test.npy')\n",
    "MSE_train_mean = np.mean(MSE_train, axis=2)\n",
    "MSE_test_mean = np.mean(MSE_test, axis=2)\n",
    "MSE_train_sd = np.std(MSE_train, axis=2)\n",
    "MSE_test_sd = np.std(MSE_test, axis=2)\n",
    "\n",
    "v_min = min(np.min(MSE_train_mean), np.min(MSE_test_mean))\n",
    "v_max = max(np.max(MSE_train_mean), np.max(MSE_test_mean))\n",
    "\n",
    "n_rows = int(np.ceil(len(N_NEURONS)/3.0))\n",
    "pl.figure(figsize=(12,3*n_rows))\n",
    "for i_n, n in enumerate(N_NEURONS):\n",
    "    pl.subplot(n_rows, min(3, len(N_NEURONS)), i_n+1)\n",
    "    pl.fill_between(np.arange(EPOCHS), MSE_train_mean[i_n,:], MSE_train_mean[i_n,:]+MSE_train_sd[i_n,:], facecolor='blue', alpha=0.5, label='Train')\n",
    "    pl.fill_between(np.arange(EPOCHS), MSE_train_mean[i_n,:], MSE_train_mean[i_n,:]-MSE_train_sd[i_n,:], facecolor='blue', alpha=0.5)\n",
    "    pl.fill_between(np.arange(EPOCHS), MSE_test_mean[i_n,:], MSE_test_mean[i_n,:]+MSE_test_sd[i_n,:], facecolor='red', alpha=0.5, label='Test')\n",
    "    pl.fill_between(np.arange(EPOCHS), MSE_test_mean[i_n,:], MSE_test_mean[i_n,:]-MSE_test_sd[i_n,:], facecolor='red', alpha=0.5)\n",
    "    pl.ylim(0.95*v_min, 1.2*v_max)\n",
    "    pl.ylabel('MSE')\n",
    "    pl.xlabel('Number of epochs')\n",
    "    pl.title(str(K)+'-fold CV with '+str(n)+' hidden neurons')\n",
    "    pl.legend()\n",
    "    pl.grid()\n",
    "pl.tight_layout()"
   ]
  },
  {
   "cell_type": "code",
   "execution_count": null,
   "metadata": {},
   "outputs": [],
   "source": [
    "print(\"MOMENTUM=0.7, LEARNING RATE=0.001\")\n",
    "MSE_train = np.load(PATH_MWK + '2_M0.7L0.001N50_train.npy')\n",
    "MSE_test = np.load(PATH_MWK + '2_M0.7L0.001N50_test.npy')\n",
    "MSE_train_mean = np.mean(MSE_train, axis=2)\n",
    "MSE_test_mean = np.mean(MSE_test, axis=2)\n",
    "MSE_train_sd = np.std(MSE_train, axis=2)\n",
    "MSE_test_sd = np.std(MSE_test, axis=2)\n",
    "\n",
    "v_min = min(np.min(MSE_train_mean), np.min(MSE_test_mean))\n",
    "v_max = max(np.max(MSE_train_mean), np.max(MSE_test_mean))\n",
    "\n",
    "n_rows = int(np.ceil(len(N_NEURONS)/3.0))\n",
    "pl.figure(figsize=(12,3*n_rows))\n",
    "for i_n, n in enumerate(N_NEURONS):\n",
    "    pl.subplot(n_rows, min(3, len(N_NEURONS)), i_n+1)\n",
    "    pl.fill_between(np.arange(EPOCHS), MSE_train_mean[i_n,:], MSE_train_mean[i_n,:]+MSE_train_sd[i_n,:], facecolor='blue', alpha=0.5, label='Train')\n",
    "    pl.fill_between(np.arange(EPOCHS), MSE_train_mean[i_n,:], MSE_train_mean[i_n,:]-MSE_train_sd[i_n,:], facecolor='blue', alpha=0.5)\n",
    "    pl.fill_between(np.arange(EPOCHS), MSE_test_mean[i_n,:], MSE_test_mean[i_n,:]+MSE_test_sd[i_n,:], facecolor='red', alpha=0.5, label='Test')\n",
    "    pl.fill_between(np.arange(EPOCHS), MSE_test_mean[i_n,:], MSE_test_mean[i_n,:]-MSE_test_sd[i_n,:], facecolor='red', alpha=0.5)\n",
    "    pl.ylim(0.95*v_min, 1.2*v_max)\n",
    "    pl.ylabel('MSE')\n",
    "    pl.xlabel('Number of epochs')\n",
    "    pl.title(str(K)+'-fold CV with '+str(n)+' hidden neurons')\n",
    "    pl.legend()\n",
    "    pl.grid()\n",
    "pl.tight_layout()"
   ]
  },
  {
   "cell_type": "code",
   "execution_count": null,
   "metadata": {},
   "outputs": [],
   "source": [
    "MOMENTUM_LIST = [0.5]\n",
    "LEARNING_RATE_LIST = [0.001]\n",
    "N_NEURONS = [50, 60]\n",
    "EPOCHS = E\n",
    "PATH_MWK = PATH_EXPERIMENTS + 'MWK/'"
   ]
  },
  {
   "cell_type": "code",
   "execution_count": null,
   "metadata": {},
   "outputs": [],
   "source": [
    "# The results of these experiments are listed in ./experiments/MWK\n",
    "\n",
    "# cnt = 3\n",
    "# for m in MOMENTUM_LIST:\n",
    "#     print('MOMENTUM:', m)\n",
    "#     for l in LEARNING_RATE_LIST:\n",
    "#         print('MOMENTUM:', m, \"LEARNING RATE:\", l)\n",
    "        \n",
    "#         MSE_train = np.zeros((len(N_NEURONS), E, N_TESTS))\n",
    "#         MSE_test = np.zeros((len(N_NEURONS), E, N_TESTS))\n",
    "\n",
    "#         for i_h, h in enumerate(N_NEURONS):                                     # looping the number of hidden neurons\n",
    "#             print('Testing', h, 'neurons...')\n",
    "#             nn = mlp.MLP([input_size,h,1], 'tanh')\n",
    "#             for i in np.arange(N_TESTS):                                           # looping the tests\n",
    "#                 tt = time.time()\n",
    "#                 nn.init_weights()                                                  # the network has to be reinitialized before each test\n",
    "#                 temp1, temp2 = cv.k_fold_cross_validation_per_epoch(nn,            # notice that we do not use cv.k_fold_cross_validation\n",
    "#                                                             wk_dataset,    # but cv.k_fold_cross_validation_per_epoch which\n",
    "#                                                             k=K,           # returns a value of error per each epoch\n",
    "#                                                             learning_rate=l,\n",
    "#                                                             momentum=m,\n",
    "#                                                             epochs=E)\n",
    "#                 print (time.time() - tt)\n",
    "#         # temp1 and temp2 are the training and test error. One value per epoch\n",
    "#                 MSE_train[i_h, :, i] = temp1\n",
    "#                 MSE_test[i_h, :, i] = temp2\n",
    "#         print('Tests done')\n",
    "#         np.save(PATH_MWK + str(cnt) + '_M'+str(m)+'L'+str(l)+'N'+str(h)+'_train', MSE_train)\n",
    "#         np.save(PATH_MWK + str(cnt) + '_M'+str(m)+'L'+str(l)+'N'+str(h)+'_test', MSE_test)\n",
    "#         cnt += 1"
   ]
  },
  {
   "cell_type": "code",
   "execution_count": null,
   "metadata": {},
   "outputs": [],
   "source": [
    "print(\"MOMENTUM=0.5, LEARNING RATE=0.001\")\n",
    "MSE_train = np.load(PATH_MWK + '3_M0.5L0.001N60_train.npy')\n",
    "MSE_test = np.load(PATH_MWK + '3_M0.5L0.001N60_test.npy')\n",
    "MSE_train_mean = np.mean(MSE_train, axis=2)\n",
    "MSE_test_mean = np.mean(MSE_test, axis=2)\n",
    "MSE_train_sd = np.std(MSE_train, axis=2)\n",
    "MSE_test_sd = np.std(MSE_test, axis=2)\n",
    "\n",
    "v_min = min(np.min(MSE_train_mean), np.min(MSE_test_mean))\n",
    "v_max = max(np.max(MSE_train_mean), np.max(MSE_test_mean))\n",
    "\n",
    "n_rows = int(np.ceil(len(N_NEURONS)/3.0))\n",
    "pl.figure(figsize=(12,3*n_rows))\n",
    "for i_n, n in enumerate(N_NEURONS):\n",
    "    pl.subplot(n_rows, min(3, len(N_NEURONS)), i_n+1)\n",
    "    pl.fill_between(np.arange(EPOCHS), MSE_train_mean[i_n,:], MSE_train_mean[i_n,:]+MSE_train_sd[i_n,:], facecolor='blue', alpha=0.5, label='Train')\n",
    "    pl.fill_between(np.arange(EPOCHS), MSE_train_mean[i_n,:], MSE_train_mean[i_n,:]-MSE_train_sd[i_n,:], facecolor='blue', alpha=0.5)\n",
    "    pl.fill_between(np.arange(EPOCHS), MSE_test_mean[i_n,:], MSE_test_mean[i_n,:]+MSE_test_sd[i_n,:], facecolor='red', alpha=0.5, label='Test')\n",
    "    pl.fill_between(np.arange(EPOCHS), MSE_test_mean[i_n,:], MSE_test_mean[i_n,:]-MSE_test_sd[i_n,:], facecolor='red', alpha=0.5)\n",
    "    pl.ylim(0.95*v_min, 1.2*v_max)\n",
    "    pl.ylabel('MSE')\n",
    "    pl.xlabel('Number of epochs')\n",
    "    pl.title(str(K)+'-fold CV with '+str(n)+' hidden neurons')\n",
    "    pl.legend()\n",
    "    pl.grid()\n",
    "pl.tight_layout()"
   ]
  },
  {
   "cell_type": "markdown",
   "metadata": {},
   "source": [
    "__Final Model__"
   ]
  },
  {
   "cell_type": "code",
   "execution_count": null,
   "metadata": {},
   "outputs": [],
   "source": [
    "# Final configuration\n",
    "M = 0.5      # momentum\n",
    "L = 0.001    # learning rate\n",
    "E = 60       # epochs\n",
    "K = 5        # number of folds\n",
    "N = 50       # number of neurons\n",
    "N_TESTS = 10 # number of tests\n",
    "selected_features = [0, 1, 2, 3, 4, 5, 6, 7, 8, 9, 10, 11, 12]"
   ]
  },
  {
   "cell_type": "code",
   "execution_count": null,
   "metadata": {},
   "outputs": [],
   "source": [
    "mwk_nn = mlp.MLP([N_FEATURES,N,2], 'tanh')"
   ]
  },
  {
   "cell_type": "code",
   "execution_count": null,
   "metadata": {},
   "outputs": [],
   "source": [
    "mwk_MSE_train, mwk_MSE_test, mwk_conf_mat = cv.k_fold_cross_validation(mwk_nn,\n",
    "                                                                       mwk_dataset,\n",
    "                                                                       k=K,\n",
    "                                                                       learning_rate=L,\n",
    "                                                                       momentum=M,\n",
    "                                                                       epochs=E,\n",
    "                                                                       threshold=0.0)"
   ]
  },
  {
   "cell_type": "code",
   "execution_count": null,
   "metadata": {},
   "outputs": [],
   "source": [
    "print('MSE training: ', mwk_MSE_train)\n",
    "print('MSE test: ', mwk_MSE_test)\n",
    "print('Confusion matrix:')\n",
    "print(mwk_conf_mat)"
   ]
  },
  {
   "cell_type": "code",
   "execution_count": null,
   "metadata": {},
   "outputs": [],
   "source": [
    "def mwk_predict(file):\n",
    "    '''\n",
    "    This function takes the audio filename as a parameter and predicts whether it corresponds to a man's, woman's or kid's voice\n",
    "    NOTE: the file must be present in ./vowels directory\n",
    "    '''\n",
    "    sample_rate, X = wav.read(os.path.join(PATH, file))\n",
    "    ceps = mfcc(X, samplerate=sample_rate, nfft=1220)\n",
    "    score = np.zeros(2)\n",
    "    # collect the predictions for every fragment of an audio\n",
    "    for i_f, f in enumerate(ceps):\n",
    "        p_i = mwk_nn.predict(f)\n",
    "        score = np.sum([score, p_i], axis=0)\n",
    "    if(score[0] < 0 and score[1] < 0 ):\n",
    "        return 'Woman'\n",
    "    elif (score[0] > 0 and score[1] < 0):\n",
    "        return 'Kid'\n",
    "    elif (score[0] > 0 and score[1] > 0):\n",
    "        return 'Man'\n",
    "    else:\n",
    "        return 'Undefined' # chances to reproduce is almost 0"
   ]
  },
  {
   "cell_type": "code",
   "execution_count": null,
   "metadata": {},
   "outputs": [],
   "source": [
    "mwk_predict('nafdlaa.wav')"
   ]
  },
  {
   "cell_type": "code",
   "execution_count": null,
   "metadata": {},
   "outputs": [],
   "source": [
    "mwk_predict('nafdlel.wav')"
   ]
  },
  {
   "cell_type": "code",
   "execution_count": null,
   "metadata": {},
   "outputs": [],
   "source": [
    "mwk_predict('nafdluu.wav')"
   ]
  },
  {
   "cell_type": "code",
   "execution_count": null,
   "metadata": {},
   "outputs": [],
   "source": [
    "mwk_predict('namphuh.wav')"
   ]
  },
  {
   "cell_type": "code",
   "execution_count": null,
   "metadata": {},
   "outputs": [],
   "source": [
    "mwk_predict('namshaw.wav')"
   ]
  },
  {
   "cell_type": "code",
   "execution_count": null,
   "metadata": {},
   "outputs": [],
   "source": [
    "mwk_predict('namshuh.wav')"
   ]
  },
  {
   "cell_type": "code",
   "execution_count": null,
   "metadata": {},
   "outputs": [],
   "source": [
    "mwk_predict('nk3ajaw.wav')"
   ]
  },
  {
   "cell_type": "code",
   "execution_count": null,
   "metadata": {},
   "outputs": [],
   "source": [
    "mwk_predict('nk3ajuh.wav')"
   ]
  },
  {
   "cell_type": "code",
   "execution_count": null,
   "metadata": {},
   "outputs": [],
   "source": [
    "mwk_predict('nk3kmer.wav')"
   ]
  },
  {
   "cell_type": "code",
   "execution_count": null,
   "metadata": {},
   "outputs": [],
   "source": [
    "mwk_predict('nk7braw.wav')"
   ]
  },
  {
   "cell_type": "code",
   "execution_count": null,
   "metadata": {},
   "outputs": [],
   "source": [
    "mwk_predict('safdlaw.wav')"
   ]
  },
  {
   "cell_type": "code",
   "execution_count": null,
   "metadata": {},
   "outputs": [],
   "source": [
    "mwk_predict('safdlil.wav')"
   ]
  },
  {
   "cell_type": "code",
   "execution_count": null,
   "metadata": {},
   "outputs": [],
   "source": [
    "mwk_predict('safshii.wav')"
   ]
  },
  {
   "cell_type": "code",
   "execution_count": null,
   "metadata": {},
   "outputs": [],
   "source": [
    "mwk_predict('sampher.wav')"
   ]
  },
  {
   "cell_type": "code",
   "execution_count": null,
   "metadata": {},
   "outputs": [],
   "source": [
    "mwk_predict('samshaa.wav')"
   ]
  },
  {
   "cell_type": "code",
   "execution_count": null,
   "metadata": {},
   "outputs": [],
   "source": [
    "mwk_predict('samshel.wav')"
   ]
  },
  {
   "cell_type": "code",
   "execution_count": null,
   "metadata": {},
   "outputs": [],
   "source": [
    "mwk_predict('sk3ajaw.wav')"
   ]
  },
  {
   "cell_type": "code",
   "execution_count": null,
   "metadata": {},
   "outputs": [],
   "source": [
    "mwk_predict('sk3ajoo.wav')"
   ]
  },
  {
   "cell_type": "code",
   "execution_count": null,
   "metadata": {},
   "outputs": [],
   "source": [
    "mwk_predict('sk5mgaw.wav')"
   ]
  },
  {
   "cell_type": "code",
   "execution_count": null,
   "metadata": {},
   "outputs": [],
   "source": [
    "mwk_predict('custom/sam2.wav')"
   ]
  },
  {
   "cell_type": "code",
   "execution_count": null,
   "metadata": {},
   "outputs": [],
   "source": [
    "mwk_predict('custom/sasha.wav')"
   ]
  },
  {
   "cell_type": "code",
   "execution_count": null,
   "metadata": {},
   "outputs": [],
   "source": [
    "mwk_predict('custom/sam.wav')"
   ]
  },
  {
   "cell_type": "code",
   "execution_count": null,
   "metadata": {},
   "outputs": [],
   "source": [
    "mwk_predict('custom/sam1.wav')"
   ]
  },
  {
   "cell_type": "code",
   "execution_count": null,
   "metadata": {},
   "outputs": [],
   "source": [
    "mwk_predict('custom/joe_rogan.wav')"
   ]
  },
  {
   "cell_type": "code",
   "execution_count": null,
   "metadata": {},
   "outputs": [],
   "source": [
    "mwk_predict('custom/ksu.wav')"
   ]
  },
  {
   "cell_type": "code",
   "execution_count": null,
   "metadata": {},
   "outputs": [],
   "source": [
    "mwk_predict('custom/danya.wav')"
   ]
  },
  {
   "cell_type": "markdown",
   "metadata": {},
   "source": [
    "## Natural vs Synthetized"
   ]
  },
  {
   "cell_type": "markdown",
   "metadata": {},
   "source": [
    "__Data Extraction__"
   ]
  },
  {
   "cell_type": "code",
   "execution_count": null,
   "metadata": {},
   "outputs": [],
   "source": [
    "n_features = [] # array containing all features of the kids' (natural) voices\n",
    "s_features = [] # array containing all features of the women's (natural) voices\n",
    "for f in features:\n",
    "    if(f[1] == 0 or f[1] == 1 or f[1] == 2): \n",
    "        n_features.append(f[0])\n",
    "    elif(f[1] == 3 or f[1] == 4 or f[1] == 5):\n",
    "        s_features.append(f[0]) \n",
    "n_features = np.array(n_features)\n",
    "s_features = np.array(s_features)\n",
    "\n",
    "nat_aligned = align_by_feature(n_features)\n",
    "syn_aligned = align_by_feature(s_features)\n",
    "\n",
    "selected_features = [0, 1, 2, 3, 4, 5, 6, 7, 8, 9, 10, 11, 12]\n",
    "\n",
    "# output: 1 for natural, -1 for synthetized voices\n",
    "ns_dataset = create_dataset(nat_aligned, syn_aligned, selected_features)\n",
    "\n",
    "ns_dataset.shape"
   ]
  },
  {
   "cell_type": "markdown",
   "metadata": {},
   "source": [
    "__Tests__"
   ]
  },
  {
   "cell_type": "code",
   "execution_count": null,
   "metadata": {},
   "outputs": [],
   "source": [
    "MOMENTUM_LIST = [0.1, 0.3, 0.5]\n",
    "LEARNING_RATE_LIST = [0.001]\n",
    "E = 70\n",
    "EPOCHS = E\n",
    "N_NEURONS = [25, 35, 45]\n",
    "N_TESTS = 10\n",
    "K = 5\n",
    "PATH_NS = PATH_EXPERIMENTS + 'NS/'\n",
    "input_size = len(selected_features)"
   ]
  },
  {
   "cell_type": "code",
   "execution_count": null,
   "metadata": {},
   "outputs": [],
   "source": [
    "# The results of these experiments are listed in ./experiments/NS\n",
    "\n",
    "# cnt = 0\n",
    "# for m in MOMENTUM_LIST:\n",
    "#     print('MOMENTUM:', m)\n",
    "#     for l in LEARNING_RATE_LIST:\n",
    "#         print('MOMENTUM:', m, \"LEARNING RATE:\", l)\n",
    "        \n",
    "#         MSE_train = np.zeros((len(N_NEURONS), E, N_TESTS))\n",
    "#         MSE_test = np.zeros((len(N_NEURONS), E, N_TESTS))\n",
    "\n",
    "#         for i_h, h in enumerate(N_NEURONS):                                     # looping the number of hidden neurons\n",
    "#             print('Testing', h, 'neurons...')\n",
    "#             nn = mlp.MLP([input_size,h,1], 'tanh')\n",
    "#             for i in np.arange(N_TESTS):                                           # looping the tests\n",
    "#                 tt = time.time()\n",
    "#                 nn.init_weights()                                                  # the network has to be reinitialized before each test\n",
    "#                 temp1, temp2 = cv.k_fold_cross_validation_per_epoch(nn,            # notice that we do not use cv.k_fold_cross_validation\n",
    "#                                                             ns_dataset,    # but cv.k_fold_cross_validation_per_epoch which\n",
    "#                                                             k=K,           # returns a value of error per each epoch\n",
    "#                                                             learning_rate=l,\n",
    "#                                                             momentum=m,\n",
    "#                                                             epochs=E)\n",
    "#                 print (time.time() - tt)\n",
    "#         # temp1 and temp2 are the training and test error. One value per epoch\n",
    "#                 MSE_train[i_h, :, i] = temp1\n",
    "#                 MSE_test[i_h, :, i] = temp2\n",
    "#         print('Tests done')\n",
    "#         np.save(PATH_NS + str(cnt) + '_M'+str(m)+'L'+str(l)+'N'+str(h)+'_train', MSE_train)\n",
    "#         np.save(PATH_NS + str(cnt) + '_M'+str(m)+'L'+str(l)+'N'+str(h)+'_test', MSE_test)\n",
    "#         cnt += 1"
   ]
  },
  {
   "cell_type": "code",
   "execution_count": null,
   "metadata": {},
   "outputs": [],
   "source": [
    "print(\"MOMENTUM=0.1, LEARNING RATE=0.001\")\n",
    "MSE_train = np.load(PATH_NS + '0_M0.1L0.001N45_train.npy')\n",
    "MSE_test = np.load(PATH_NS + '0_M0.1L0.001N45_test.npy')\n",
    "MSE_train_mean = np.mean(MSE_train, axis=2)\n",
    "MSE_test_mean = np.mean(MSE_test, axis=2)\n",
    "MSE_train_sd = np.std(MSE_train, axis=2)\n",
    "MSE_test_sd = np.std(MSE_test, axis=2)\n",
    "\n",
    "v_min = min(np.min(MSE_train_mean), np.min(MSE_test_mean))\n",
    "v_max = max(np.max(MSE_train_mean), np.max(MSE_test_mean))\n",
    "\n",
    "n_rows = int(np.ceil(len(N_NEURONS)/3.0))\n",
    "pl.figure(figsize=(12,3*n_rows))\n",
    "for i_n, n in enumerate(N_NEURONS):\n",
    "    pl.subplot(n_rows, min(3, len(N_NEURONS)), i_n+1)\n",
    "    pl.fill_between(np.arange(EPOCHS), MSE_train_mean[i_n,:], MSE_train_mean[i_n,:]+MSE_train_sd[i_n,:], facecolor='blue', alpha=0.5, label='Train')\n",
    "    pl.fill_between(np.arange(EPOCHS), MSE_train_mean[i_n,:], MSE_train_mean[i_n,:]-MSE_train_sd[i_n,:], facecolor='blue', alpha=0.5)\n",
    "    pl.fill_between(np.arange(EPOCHS), MSE_test_mean[i_n,:], MSE_test_mean[i_n,:]+MSE_test_sd[i_n,:], facecolor='red', alpha=0.5, label='Test')\n",
    "    pl.fill_between(np.arange(EPOCHS), MSE_test_mean[i_n,:], MSE_test_mean[i_n,:]-MSE_test_sd[i_n,:], facecolor='red', alpha=0.5)\n",
    "    pl.ylim(0.95*v_min, 0.3*v_max)\n",
    "    pl.ylabel('MSE')\n",
    "    pl.xlabel('Number of epochs')\n",
    "    pl.title(str(K)+'-fold CV with '+str(n)+' hidden neurons')\n",
    "    pl.legend()\n",
    "    pl.grid()\n",
    "pl.tight_layout()"
   ]
  },
  {
   "cell_type": "code",
   "execution_count": null,
   "metadata": {},
   "outputs": [],
   "source": [
    "print(\"MOMENTUM=0.3, LEARNING RATE=0.001\")\n",
    "MSE_train = np.load(PATH_NS + '1_M0.3L0.001N45_train.npy')\n",
    "MSE_test = np.load(PATH_NS + '1_M0.3L0.001N45_test.npy')\n",
    "MSE_train_mean = np.mean(MSE_train, axis=2)\n",
    "MSE_test_mean = np.mean(MSE_test, axis=2)\n",
    "MSE_train_sd = np.std(MSE_train, axis=2)\n",
    "MSE_test_sd = np.std(MSE_test, axis=2)\n",
    "\n",
    "v_min = min(np.min(MSE_train_mean), np.min(MSE_test_mean))\n",
    "v_max = max(np.max(MSE_train_mean), np.max(MSE_test_mean))\n",
    "\n",
    "n_rows = int(np.ceil(len(N_NEURONS)/3.0))\n",
    "pl.figure(figsize=(12,3*n_rows))\n",
    "for i_n, n in enumerate(N_NEURONS):\n",
    "    pl.subplot(n_rows, min(3, len(N_NEURONS)), i_n+1)\n",
    "    pl.fill_between(np.arange(EPOCHS), MSE_train_mean[i_n,:], MSE_train_mean[i_n,:]+MSE_train_sd[i_n,:], facecolor='blue', alpha=0.5, label='Train')\n",
    "    pl.fill_between(np.arange(EPOCHS), MSE_train_mean[i_n,:], MSE_train_mean[i_n,:]-MSE_train_sd[i_n,:], facecolor='blue', alpha=0.5)\n",
    "    pl.fill_between(np.arange(EPOCHS), MSE_test_mean[i_n,:], MSE_test_mean[i_n,:]+MSE_test_sd[i_n,:], facecolor='red', alpha=0.5, label='Test')\n",
    "    pl.fill_between(np.arange(EPOCHS), MSE_test_mean[i_n,:], MSE_test_mean[i_n,:]-MSE_test_sd[i_n,:], facecolor='red', alpha=0.5)\n",
    "    pl.ylim(0.95*v_min, 0.3*v_max)\n",
    "    pl.ylabel('MSE')\n",
    "    pl.xlabel('Number of epochs')\n",
    "    pl.title(str(K)+'-fold CV with '+str(n)+' hidden neurons')\n",
    "    pl.legend()\n",
    "    pl.grid()\n",
    "pl.tight_layout()"
   ]
  },
  {
   "cell_type": "code",
   "execution_count": null,
   "metadata": {},
   "outputs": [],
   "source": [
    "print(\"MOMENTUM=0.5, LEARNING RATE=0.001\")\n",
    "MSE_train = np.load(PATH_NS + '2_M0.5L0.001N45_train.npy')\n",
    "MSE_test = np.load(PATH_NS + '2_M0.5L0.001N45_test.npy')\n",
    "MSE_train_mean = np.mean(MSE_train, axis=2)\n",
    "MSE_test_mean = np.mean(MSE_test, axis=2)\n",
    "MSE_train_sd = np.std(MSE_train, axis=2)\n",
    "MSE_test_sd = np.std(MSE_test, axis=2)\n",
    "\n",
    "v_min = min(np.min(MSE_train_mean), np.min(MSE_test_mean))\n",
    "v_max = max(np.max(MSE_train_mean), np.max(MSE_test_mean))\n",
    "\n",
    "n_rows = int(np.ceil(len(N_NEURONS)/3.0))\n",
    "pl.figure(figsize=(12,3*n_rows))\n",
    "for i_n, n in enumerate(N_NEURONS):\n",
    "    pl.subplot(n_rows, min(3, len(N_NEURONS)), i_n+1)\n",
    "    pl.fill_between(np.arange(EPOCHS), MSE_train_mean[i_n,:], MSE_train_mean[i_n,:]+MSE_train_sd[i_n,:], facecolor='blue', alpha=0.5, label='Train')\n",
    "    pl.fill_between(np.arange(EPOCHS), MSE_train_mean[i_n,:], MSE_train_mean[i_n,:]-MSE_train_sd[i_n,:], facecolor='blue', alpha=0.5)\n",
    "    pl.fill_between(np.arange(EPOCHS), MSE_test_mean[i_n,:], MSE_test_mean[i_n,:]+MSE_test_sd[i_n,:], facecolor='red', alpha=0.5, label='Test')\n",
    "    pl.fill_between(np.arange(EPOCHS), MSE_test_mean[i_n,:], MSE_test_mean[i_n,:]-MSE_test_sd[i_n,:], facecolor='red', alpha=0.5)\n",
    "    pl.ylim(0.95*v_min, 0.3*v_max)\n",
    "    pl.ylabel('MSE')\n",
    "    pl.xlabel('Number of epochs')\n",
    "    pl.title(str(K)+'-fold CV with '+str(n)+' hidden neurons')\n",
    "    pl.legend()\n",
    "    pl.grid()\n",
    "pl.tight_layout()"
   ]
  },
  {
   "cell_type": "markdown",
   "metadata": {},
   "source": [
    "__Final Model__"
   ]
  },
  {
   "cell_type": "code",
   "execution_count": null,
   "metadata": {},
   "outputs": [],
   "source": [
    "# Final hyperparameters:\n",
    "M = 0.1      # momentum\n",
    "L = 0.001    # learning rate\n",
    "E = 60       # epochs\n",
    "K = 5        # number of folds\n",
    "N = 45      # number of neurons\n",
    "N_TESTS = 10 # number of tests\n",
    "selected_features = [0, 1, 2, 3, 4, 5, 6, 7, 8, 9, 10, 11, 12]"
   ]
  },
  {
   "cell_type": "code",
   "execution_count": null,
   "metadata": {},
   "outputs": [],
   "source": [
    "ns_nn = mlp.MLP([N_FEATURES,N,1], 'tanh')"
   ]
  },
  {
   "cell_type": "code",
   "execution_count": null,
   "metadata": {},
   "outputs": [],
   "source": [
    "ns_MSE_train, ns_MSE_test, ns_conf_mat = cv.k_fold_cross_validation(ns_nn,\n",
    "                                                                    ns_dataset,\n",
    "                                                                    k=K,\n",
    "                                                                    learning_rate=L,\n",
    "                                                                    momentum=M,\n",
    "                                                                    epochs=E,\n",
    "                                                                    threshold=0.0)"
   ]
  },
  {
   "cell_type": "code",
   "execution_count": null,
   "metadata": {},
   "outputs": [],
   "source": [
    "print('MSE training: ', ns_MSE_train)\n",
    "print('MSE test: ', ns_MSE_test)\n",
    "print('Confusion matrix:')\n",
    "print(ns_conf_mat)"
   ]
  },
  {
   "cell_type": "code",
   "execution_count": null,
   "metadata": {},
   "outputs": [],
   "source": [
    "def ns_predict(file):\n",
    "    '''\n",
    "    This function takes the audio filename as a parameter and predicts whether it corresponds to a natural or synthetized voice\n",
    "    NOTE: the file must be present in ./vowels directory\n",
    "    '''\n",
    "    sample_rate, X = wav.read(os.path.join(PATH, file))\n",
    "    ceps = mfcc(X, samplerate=sample_rate, nfft=1200)\n",
    "    p = 0\n",
    "    # collect the predictions for every fragment of an audio\n",
    "    for i_f, f in enumerate(ceps):\n",
    "        p_i = ns_nn.predict(f)\n",
    "        p += p_i\n",
    "    # calculate the average prediction\n",
    "    if(p > 0):\n",
    "        return \"Natural\"\n",
    "    else:\n",
    "        return \"Synthetized\""
   ]
  },
  {
   "cell_type": "code",
   "execution_count": null,
   "metadata": {},
   "outputs": [],
   "source": [
    "ns_predict('nafdlaa.wav')"
   ]
  },
  {
   "cell_type": "code",
   "execution_count": null,
   "metadata": {},
   "outputs": [],
   "source": [
    "ns_predict('nafdlel.wav')"
   ]
  },
  {
   "cell_type": "code",
   "execution_count": null,
   "metadata": {},
   "outputs": [],
   "source": [
    "ns_predict('nafdluu.wav')"
   ]
  },
  {
   "cell_type": "code",
   "execution_count": null,
   "metadata": {},
   "outputs": [],
   "source": [
    "ns_predict('namcraw.wav')"
   ]
  },
  {
   "cell_type": "code",
   "execution_count": null,
   "metadata": {},
   "outputs": [],
   "source": [
    "ns_predict('namcraa.wav')"
   ]
  },
  {
   "cell_type": "code",
   "execution_count": null,
   "metadata": {},
   "outputs": [],
   "source": [
    "ns_predict('namcrii.wav')"
   ]
  },
  {
   "cell_type": "code",
   "execution_count": null,
   "metadata": {},
   "outputs": [],
   "source": [
    "ns_predict('nk3araa.wav')"
   ]
  },
  {
   "cell_type": "code",
   "execution_count": null,
   "metadata": {},
   "outputs": [],
   "source": [
    "ns_predict('nk3arer.wav')"
   ]
  },
  {
   "cell_type": "code",
   "execution_count": null,
   "metadata": {},
   "outputs": [],
   "source": [
    "ns_predict('nk3kmaa.wav')"
   ]
  },
  {
   "cell_type": "code",
   "execution_count": null,
   "metadata": {},
   "outputs": [],
   "source": [
    "ns_predict('samphal.wav')"
   ]
  },
  {
   "cell_type": "code",
   "execution_count": null,
   "metadata": {},
   "outputs": [],
   "source": [
    "ns_predict('samshee.wav')"
   ]
  },
  {
   "cell_type": "code",
   "execution_count": null,
   "metadata": {},
   "outputs": [],
   "source": [
    "ns_predict('samshuh.wav')"
   ]
  },
  {
   "cell_type": "code",
   "execution_count": null,
   "metadata": {},
   "outputs": [],
   "source": [
    "ns_predict('sk3ajaw.wav')"
   ]
  },
  {
   "cell_type": "code",
   "execution_count": null,
   "metadata": {},
   "outputs": [],
   "source": [
    "ns_predict('sk3ajul.wav')"
   ]
  },
  {
   "cell_type": "code",
   "execution_count": null,
   "metadata": {},
   "outputs": [],
   "source": [
    "ns_predict('custom/sam.wav')"
   ]
  },
  {
   "cell_type": "code",
   "execution_count": null,
   "metadata": {},
   "outputs": [],
   "source": [
    "ns_predict('custom/sasha.wav')"
   ]
  },
  {
   "cell_type": "code",
   "execution_count": null,
   "metadata": {},
   "outputs": [],
   "source": [
    "ns_predict('custom/ksu.wav')"
   ]
  },
  {
   "cell_type": "code",
   "execution_count": null,
   "metadata": {},
   "outputs": [],
   "source": [
    "ns_predict('custom/joe_rogan.wav')"
   ]
  },
  {
   "cell_type": "code",
   "execution_count": null,
   "metadata": {},
   "outputs": [],
   "source": [
    "ns_predict('custom/danya.wav')"
   ]
  },
  {
   "cell_type": "markdown",
   "metadata": {},
   "source": [
    "## Performance Measures"
   ]
  },
  {
   "cell_type": "code",
   "execution_count": null,
   "metadata": {},
   "outputs": [],
   "source": [
    "def performance(conf_mat):\n",
    "    tp = conf_mat[0][0]\n",
    "    tn = conf_mat[1][1]\n",
    "    fp = conf_mat[1][0]\n",
    "    fn = conf_mat[0][1]\n",
    "    acc  = float(tp+tn)/(tp+tn+fp+fn) # accuracy\n",
    "    prec = float(tp)/(tp+fp)          # precision\n",
    "    rec  = float(tp)/(tp+fn)          # recall\n",
    "    f1   = prec*rec/(prec+rec)        # f1 score\n",
    "    return {'acc': acc, 'p': prec, 'r': rec, 'f1': f1}"
   ]
  },
  {
   "cell_type": "code",
   "execution_count": null,
   "metadata": {},
   "outputs": [],
   "source": [
    "performance(mw_conf_mat)"
   ]
  },
  {
   "cell_type": "code",
   "execution_count": null,
   "metadata": {},
   "outputs": [],
   "source": [
    "performance(wk_conf_mat)"
   ]
  },
  {
   "cell_type": "code",
   "execution_count": null,
   "metadata": {},
   "outputs": [],
   "source": [
    "performance(mwk_conf_mat)"
   ]
  },
  {
   "cell_type": "code",
   "execution_count": null,
   "metadata": {},
   "outputs": [],
   "source": [
    "performance(ns_conf_mat)"
   ]
  },
  {
   "cell_type": "markdown",
   "metadata": {},
   "source": [
    "## Custom experiment"
   ]
  },
  {
   "cell_type": "markdown",
   "metadata": {},
   "source": [
    "Cutom Natural Male voices"
   ]
  },
  {
   "cell_type": "code",
   "execution_count": null,
   "metadata": {},
   "outputs": [],
   "source": [
    "mf_predict('custom/danya.wav')"
   ]
  },
  {
   "cell_type": "code",
   "execution_count": null,
   "metadata": {},
   "outputs": [],
   "source": [
    "mf_predict('custom/joe_rogan.wav')"
   ]
  },
  {
   "cell_type": "code",
   "execution_count": null,
   "metadata": {},
   "outputs": [],
   "source": [
    "mf_predict('custom/sam.wav')"
   ]
  },
  {
   "cell_type": "code",
   "execution_count": null,
   "metadata": {},
   "outputs": [],
   "source": [
    "mf_predict('custom/sam1.wav')"
   ]
  },
  {
   "cell_type": "code",
   "execution_count": null,
   "metadata": {},
   "outputs": [],
   "source": [
    "mf_predict('custom/sam2.wav')"
   ]
  },
  {
   "cell_type": "code",
   "execution_count": null,
   "metadata": {},
   "outputs": [],
   "source": [
    "wk_predict('custom/danya.wav')"
   ]
  },
  {
   "cell_type": "code",
   "execution_count": null,
   "metadata": {},
   "outputs": [],
   "source": [
    "wk_predict('custom/joe_rogan.wav')"
   ]
  },
  {
   "cell_type": "code",
   "execution_count": null,
   "metadata": {},
   "outputs": [],
   "source": [
    "wk_predict('custom/sam.wav')"
   ]
  },
  {
   "cell_type": "code",
   "execution_count": null,
   "metadata": {},
   "outputs": [],
   "source": [
    "wk_predict('custom/sam1.wav')"
   ]
  },
  {
   "cell_type": "code",
   "execution_count": null,
   "metadata": {},
   "outputs": [],
   "source": [
    "wk_predict('custom/sam2.wav')"
   ]
  },
  {
   "cell_type": "code",
   "execution_count": null,
   "metadata": {},
   "outputs": [],
   "source": [
    "mwk_predict('custom/danya.wav')"
   ]
  },
  {
   "cell_type": "code",
   "execution_count": null,
   "metadata": {},
   "outputs": [],
   "source": [
    "mwk_predict('custom/joe_rogan.wav')"
   ]
  },
  {
   "cell_type": "code",
   "execution_count": null,
   "metadata": {},
   "outputs": [],
   "source": [
    "mwk_predict('custom/sam.wav')"
   ]
  },
  {
   "cell_type": "code",
   "execution_count": null,
   "metadata": {},
   "outputs": [],
   "source": [
    "mwk_predict('custom/sam1.wav')"
   ]
  },
  {
   "cell_type": "code",
   "execution_count": null,
   "metadata": {},
   "outputs": [],
   "source": [
    "mwk_predict('custom/sam2.wav')"
   ]
  },
  {
   "cell_type": "code",
   "execution_count": null,
   "metadata": {},
   "outputs": [],
   "source": [
    "ns_predict('custom/danya.wav')"
   ]
  },
  {
   "cell_type": "code",
   "execution_count": null,
   "metadata": {},
   "outputs": [],
   "source": [
    "ns_predict('custom/joe_rogan.wav')"
   ]
  },
  {
   "cell_type": "code",
   "execution_count": null,
   "metadata": {},
   "outputs": [],
   "source": [
    "ns_predict('custom/sam.wav')"
   ]
  },
  {
   "cell_type": "code",
   "execution_count": null,
   "metadata": {},
   "outputs": [],
   "source": [
    "ns_predict('custom/sam1.wav')"
   ]
  },
  {
   "cell_type": "code",
   "execution_count": null,
   "metadata": {},
   "outputs": [],
   "source": [
    "ns_predict('custom/sam2.wav')"
   ]
  },
  {
   "cell_type": "markdown",
   "metadata": {},
   "source": [
    "Custom Natural Female voices"
   ]
  },
  {
   "cell_type": "code",
   "execution_count": null,
   "metadata": {},
   "outputs": [],
   "source": [
    "mf_predict('custom/sasha.wav')"
   ]
  },
  {
   "cell_type": "code",
   "execution_count": null,
   "metadata": {},
   "outputs": [],
   "source": [
    "mf_predict('custom/ksu.wav')"
   ]
  },
  {
   "cell_type": "code",
   "execution_count": null,
   "metadata": {},
   "outputs": [],
   "source": [
    "wk_predict('custom/sasha.wav')"
   ]
  },
  {
   "cell_type": "code",
   "execution_count": null,
   "metadata": {},
   "outputs": [],
   "source": [
    "wk_predict('custom/ksu.wav')"
   ]
  },
  {
   "cell_type": "code",
   "execution_count": null,
   "metadata": {},
   "outputs": [],
   "source": [
    "mwk_predict('custom/sasha.wav')"
   ]
  },
  {
   "cell_type": "code",
   "execution_count": null,
   "metadata": {},
   "outputs": [],
   "source": [
    "mwk_predict('custom/ksu.wav')"
   ]
  },
  {
   "cell_type": "code",
   "execution_count": null,
   "metadata": {},
   "outputs": [],
   "source": [
    "ns_predict('custom/sasha.wav')"
   ]
  },
  {
   "cell_type": "code",
   "execution_count": null,
   "metadata": {},
   "outputs": [],
   "source": [
    "ns_predict('custom/ksu.wav')"
   ]
  },
  {
   "cell_type": "markdown",
   "metadata": {},
   "source": [
    "__Audios comparison__"
   ]
  },
  {
   "cell_type": "code",
   "execution_count": null,
   "metadata": {},
   "outputs": [],
   "source": [
    "sample_rate_danya, X_danya = wav.read(os.path.join(PATH, 'custom/danya.wav'))\n",
    "sample_rate_joe, X_joe = wav.read(os.path.join(PATH, 'custom/joe_rogan.wav'))\n",
    "sample_rate_sam, X_sam = wav.read(os.path.join(PATH, 'custom/sam2.wav'))\n",
    "sample_rate_sasha, X_sasha = wav.read(os.path.join(PATH, 'custom/sasha.wav'))\n",
    "sample_rate_ksu, X_ksu = wav.read(os.path.join(PATH, 'custom/ksu.wav'))\n",
    "sample_rate_nm, X_nm = wav.read(os.path.join(PATH, 'namcraw.wav'))\n",
    "sample_rate_nf, X_nf = wav.read(os.path.join(PATH, 'nafshil.wav'))"
   ]
  },
  {
   "cell_type": "code",
   "execution_count": null,
   "metadata": {},
   "outputs": [],
   "source": [
    "# danya\n",
    "pl.figure(figsize=(15, 6))\n",
    "pl.plot(X_danya)\n",
    "pl.xlim(0, len(X_danya))\n",
    "pl.title('X_danya')\n",
    "pl.grid()"
   ]
  },
  {
   "cell_type": "code",
   "execution_count": null,
   "metadata": {},
   "outputs": [],
   "source": [
    "# joe rogan\n",
    "pl.figure(figsize=(15, 6))\n",
    "pl.plot(X_joe)\n",
    "pl.xlim(0, len(X_joe))\n",
    "pl.title('X_joe')\n",
    "pl.grid()"
   ]
  },
  {
   "cell_type": "code",
   "execution_count": null,
   "metadata": {},
   "outputs": [],
   "source": [
    "# sam\n",
    "pl.figure(figsize=(15, 6))\n",
    "pl.plot(X_sam)\n",
    "pl.xlim(0, len(X_sam))\n",
    "pl.title('X_sam')\n",
    "pl.grid()\n",
    "pl.tight_layout()"
   ]
  },
  {
   "cell_type": "code",
   "execution_count": null,
   "metadata": {},
   "outputs": [],
   "source": [
    "# sasha\n",
    "pl.figure(figsize=(15, 6))\n",
    "pl.plot(X_sasha)\n",
    "pl.xlim(0, len(X_sasha))\n",
    "pl.title('X_sasha')\n",
    "pl.grid()\n",
    "pl.tight_layout()"
   ]
  },
  {
   "cell_type": "code",
   "execution_count": null,
   "metadata": {},
   "outputs": [],
   "source": [
    "# ksu\n",
    "pl.figure(figsize=(15, 6))\n",
    "pl.plot(X_ksu)\n",
    "pl.xlim(0, len(X_ksu))\n",
    "pl.title('X_ksu')\n",
    "pl.grid()\n",
    "pl.tight_layout()"
   ]
  },
  {
   "cell_type": "code",
   "execution_count": null,
   "metadata": {},
   "outputs": [],
   "source": [
    "# Natural Adult Male\n",
    "pl.figure(figsize=(15, 6))\n",
    "pl.plot(X_nm)\n",
    "pl.xlim(0, len(X_nm))\n",
    "pl.title('X_Natural_Male')\n",
    "pl.grid()"
   ]
  },
  {
   "cell_type": "code",
   "execution_count": null,
   "metadata": {},
   "outputs": [],
   "source": [
    "# Natural Adult Female\n",
    "pl.figure(figsize=(15, 6))\n",
    "pl.plot(X_nf)\n",
    "pl.xlim(0, len(X_nf))\n",
    "pl.title('X_Natural_Femaale')\n",
    "pl.grid()"
   ]
  },
  {
   "cell_type": "code",
   "execution_count": null,
   "metadata": {},
   "outputs": [],
   "source": []
  }
 ],
 "metadata": {
  "kernelspec": {
   "display_name": "Python 3",
   "language": "python",
   "name": "python3"
  },
  "language_info": {
   "codemirror_mode": {
    "name": "ipython",
    "version": 3
   },
   "file_extension": ".py",
   "mimetype": "text/x-python",
   "name": "python",
   "nbconvert_exporter": "python",
   "pygments_lexer": "ipython3",
   "version": "3.6.8"
  }
 },
 "nbformat": 4,
 "nbformat_minor": 2
}
